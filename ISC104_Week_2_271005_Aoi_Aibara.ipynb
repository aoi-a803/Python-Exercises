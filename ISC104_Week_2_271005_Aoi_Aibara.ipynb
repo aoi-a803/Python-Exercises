{
  "cells": [
    {
      "cell_type": "markdown",
      "metadata": {},
      "source": [
        "EX2-1: Create a program that prints integer values from 0 to 9 one line at a time using a for statement, and also prints \"multiple of three\" only when the number is a multiple of three.\n",
        "• The \"multiple of three\" may be printed on a separate line from the integer value"
      ]
    },
    {
      "cell_type": "code",
      "execution_count": 1,
      "metadata": {
        "colab": {
          "base_uri": "https://localhost:8080/"
        },
        "id": "-MNqUZvuCXMu",
        "outputId": "d5ccc2fd-0190-47af-9339-1a594b3997c6"
      },
      "outputs": [
        {
          "name": "stdout",
          "output_type": "stream",
          "text": [
            "0\n",
            "multiple of three\n",
            "1\n",
            "2\n",
            "3\n",
            "multiple of three\n",
            "4\n",
            "5\n",
            "6\n",
            "multiple of three\n",
            "7\n",
            "8\n",
            "9\n",
            "multiple of three\n"
          ]
        }
      ],
      "source": [
        "#Exercise 2-1\n",
        "for i in range(10):\n",
        "  print(i)\n",
        "  if i%3==0:\n",
        "    print('multiple of three')"
      ]
    },
    {
      "cell_type": "markdown",
      "metadata": {},
      "source": [
        "EX2-2: create a program that generates integer values from 1 to 6 with a for statement to calculate and print 6/1+6/2+6/3+6/4+6/5+6/6.\n",
        "• A variable (e.g. sumval) to store the total value is prepared before the for statement by initializing it with 0. The for statement generates integer values from 1 to 6, and then the inverse of those values times 6 is added to sumval."
      ]
    },
    {
      "cell_type": "code",
      "execution_count": 7,
      "metadata": {
        "colab": {
          "base_uri": "https://localhost:8080/"
        },
        "id": "BKGbpL-fCzQi",
        "outputId": "36042632-3eda-4017-a9f3-9108d07e379e"
      },
      "outputs": [
        {
          "name": "stdout",
          "output_type": "stream",
          "text": [
            "6/1+6/2+6/3+6/4+6/5+6/6 = 13.7\n"
          ]
        }
      ],
      "source": [
        "#Exercise 2-2\n",
        "sumval=0\n",
        "#calculating the equation\n",
        "for i in range(1,6):\n",
        "  sumval+=6/i\n",
        "#printing out the equation\n",
        "print('6/1+6/2+6/3+6/4+6/5+6/6 =', sumval)\n"
      ]
    },
    {
      "cell_type": "markdown",
      "metadata": {},
      "source": [
        "EX2-3: write a program to count and print the number of multiples of 12 among the 9*9 values of multiplication (answer is 15).\n",
        "• not including multiples of 0\n",
        "• 2*6 and 6*2 are counted separately\n",
        "• Additional question: Assuming that 2*6 and 6*2 (and 3*4 and 4*3) are the same, count multiples of 12."
      ]
    },
    {
      "cell_type": "code",
      "execution_count": 21,
      "metadata": {
        "colab": {
          "base_uri": "https://localhost:8080/"
        },
        "id": "eIry6rO9DgnG",
        "outputId": "debbf16e-24d9-43b9-b21a-45a33e95bd12"
      },
      "outputs": [
        {
          "name": "stdout",
          "output_type": "stream",
          "text": [
            "15\n"
          ]
        }
      ],
      "source": [
        "#Exercise 2-3\n",
        "count=0\n",
        "for x in range(1,10):\n",
        "  for y in range(1,10):\n",
        "      if (x*y)%12==0: #trying to filter the numbers that are the multiple of 12\n",
        "        count+=1\n",
        "print(count)"
      ]
    },
    {
      "cell_type": "markdown",
      "metadata": {},
      "source": [
        " EX2-4: A for statement is used to generate integer values from 0 to 19, and the integer values are\n",
        "• If it is divisible by 3 and not divisible by 5, it prints the string \"Fizz\"\n",
        "• If it is divisible by 5 and not divisible by 3, it prints the string \"Buzz\"\n",
        "• If it is divisible by 3 and 5, the string \"FizzBuzz\" is printed\n",
        "• If none of the above, print its integer value"
      ]
    },
    {
      "cell_type": "code",
      "execution_count": 22,
      "metadata": {
        "colab": {
          "base_uri": "https://localhost:8080/"
        },
        "id": "3KztoIx7Epib",
        "outputId": "7a77e933-3ce0-41b6-f27b-da601f421854"
      },
      "outputs": [
        {
          "name": "stdout",
          "output_type": "stream",
          "text": [
            "FizzBuzz\n",
            "1\n",
            "2\n",
            "Fizz\n",
            "4\n",
            "Buzz\n",
            "Fizz\n",
            "7\n",
            "8\n",
            "Fizz\n",
            "Buzz\n",
            "11\n",
            "Fizz\n",
            "13\n",
            "14\n",
            "FizzBuzz\n",
            "16\n",
            "17\n",
            "Fizz\n",
            "19\n"
          ]
        }
      ],
      "source": [
        "#Exercise 2-4\n",
        "for i in range(20):\n",
        "  if i%3==0 and i%5!=0:\n",
        "    print('Fizz')\n",
        "  elif i%3!=0 and i%5==0:\n",
        "    print('Buzz')\n",
        "  elif i%3==0 or i%5==0:\n",
        "    print('FizzBuzz')\n",
        "  else:\n",
        "    print(i)"
      ]
    },
    {
      "cell_type": "markdown",
      "metadata": {},
      "source": [
        "EX2-5: Create a program that generates uniform random numbers between 0 and 1 10 times using a for statement and prints the smallest value.\n",
        "• Initialize the variable that stores the minimum value (e.g., tmpmin) with an appropriate number, and if the generated random number is smaller than tmpmin, assign the generated random number to tmpmin."
      ]
    },
    {
      "cell_type": "code",
      "execution_count": 26,
      "metadata": {
        "colab": {
          "base_uri": "https://localhost:8080/"
        },
        "id": "3BXYylasGwgs",
        "outputId": "7783b9d5-80f8-4b4c-8d59-fe936a1aef86"
      },
      "outputs": [
        {
          "name": "stdout",
          "output_type": "stream",
          "text": [
            "minval 0.038980480441771714\n"
          ]
        }
      ],
      "source": [
        "#Exercise 2-5\n",
        "import random\n",
        "tmpmin=1\n",
        "for x in range(10):\n",
        "  random_number=random.uniform(0,1)\n",
        "  if random_number<tmpmin:\n",
        "    tmpmin=random_number\n",
        "print('minval', tmpmin)\n"
      ]
    },
    {
      "cell_type": "markdown",
      "metadata": {},
      "source": [
        "EX2-6: Create a program that generates 10 random numbers and prints the smallest value and repeats this 10 times.\n",
        "• Print the iteration number, followed by the smallest value of each iteration\n",
        "(i.e. 1 min_val1, 2 min_val2, etc.)\n",
        "• The minimum value should be different for each change in the number of times generated!"
      ]
    },
    {
      "cell_type": "code",
      "execution_count": 42,
      "metadata": {
        "colab": {
          "base_uri": "https://localhost:8080/"
        },
        "id": "fayPu8gYIm7S",
        "outputId": "54b1eca9-3f45-4280-d165-28dfe4d5180b"
      },
      "outputs": [
        {
          "name": "stdout",
          "output_type": "stream",
          "text": [
            "1 min_val 0.04790164559503851\n",
            "2 min_val 0.012096816955145973\n",
            "3 min_val 0.208410213458469\n",
            "4 min_val 0.05766909869955017\n",
            "5 min_val 0.10166563868937051\n",
            "6 min_val 0.17018002654696274\n",
            "7 min_val 0.03830935774673083\n",
            "8 min_val 0.0029363411608364087\n",
            "9 min_val 0.11208418236418816\n",
            "10 min_val 0.24257128387622295\n"
          ]
        }
      ],
      "source": [
        "#Exercise 2-6\n",
        "import random\n",
        "\n",
        "for x in range(1,11):\n",
        "  tmpmin=1 #to reset the function of searching for the minimum\n",
        "  for i in range(10):\n",
        "    random_number=random.random()\n",
        "    if random_number<tmpmin:\n",
        "      tmpmin=random_number\n",
        "  print(x, 'min_val', tmpmin)\n"
      ]
    },
    {
      "cell_type": "markdown",
      "metadata": {},
      "source": [
        "EX2-7: Create a program that finds and prints the number of times a coin shows a head when it is flipped 100 times.\n",
        "• A coin shows a head with a probability of 0.1.\n",
        "• Instead of printing in the practice, you can count the number of times when the number is less than 0.1. "
      ]
    },
    {
      "cell_type": "code",
      "execution_count": 34,
      "metadata": {
        "colab": {
          "base_uri": "https://localhost:8080/"
        },
        "id": "NLTOeRTBKACc",
        "outputId": "445df024-e9d2-4c46-a662-60734b01bc67"
      },
      "outputs": [
        {
          "name": "stdout",
          "output_type": "stream",
          "text": [
            "12\n"
          ]
        }
      ],
      "source": [
        "#Exercise 2-7\n",
        "import random\n",
        "count=0\n",
        "for i in range(100):\n",
        "  coin=random.uniform(0,1) #making the computer select a number randomly in between 0 and 1\n",
        "  if coin<0.1:\n",
        "    count+=1 #counting only the number of times the computer selected a number less than 0.1\n",
        "print(count)\n"
      ]
    },
    {
      "cell_type": "markdown",
      "metadata": {},
      "source": [
        "EX2-8: Create a program that prints the total value of x*(100-x) when an integer value from 0 to 99 is generated as a loop variable x in a for statement."
      ]
    },
    {
      "cell_type": "code",
      "execution_count": 49,
      "metadata": {
        "colab": {
          "base_uri": "https://localhost:8080/"
        },
        "id": "Cai0C7_bKrww",
        "outputId": "dc6a0a10-4bf5-4d6c-e3e2-76c5194985d2"
      },
      "outputs": [
        {
          "name": "stdout",
          "output_type": "stream",
          "text": [
            "166650\n"
          ]
        }
      ],
      "source": [
        "#Exercise 2-8\n",
        "sumval=0\n",
        "for x in range(100):#integer from 0 to 99\n",
        "  y=x*(100-x)\n",
        "  sumval+=y #adding the value of equation to the sum\n",
        "print(sumval)"
      ]
    },
    {
      "cell_type": "markdown",
      "metadata": {},
      "source": [
        "EX2-9: Create a program that prints the maximum value of x*(100-x) and x when x*(100-x) takes the maximum value when an integer value from 0 to 99 is generated as a loop variable x using a for statement."
      ]
    },
    {
      "cell_type": "code",
      "execution_count": 63,
      "metadata": {
        "colab": {
          "base_uri": "https://localhost:8080/"
        },
        "id": "pKg8Cpk_ON_w",
        "outputId": "b162e703-ce74-45a9-e650-03d4111d1640"
      },
      "outputs": [
        {
          "name": "stdout",
          "output_type": "stream",
          "text": [
            "The max is  2500 when x is  50\n"
          ]
        }
      ],
      "source": [
        "#Exercise 2-9\n",
        "tmpmax=0\n",
        "maxx=0\n",
        "for x in range(100):#integer from 0 to 99\n",
        "  y=x*(100-x)\n",
        "  if y>tmpmax:\n",
        "    tmpmax=y\n",
        "    maxx=x\n",
        "print('The max is ', tmpmax, 'when x is ', maxx)"
      ]
    },
    {
      "cell_type": "markdown",
      "metadata": {},
      "source": [
        "EX2-10: Consider the approximate computation of pi ( ) using random numbers. In a 2-dimensional plane with coordinates (x,y), the area of a shape, with vertices (0,0), (0,1), (1,0), and (1,1) squares whose vertices are 𝑥^2 + 𝑦^2 <1, is 1/4 of a circle with radius 1, therefore 𝜋 ∕ 4. Thus, for two uniform random numbers between 0 and 1, the probability of 𝑥^2 + 𝑦^2 < 1 is 𝜋 ∕ 4. Using this, generate 10000 two uniform random numbers and calculate the approximate value of pi."
      ]
    },
    {
      "cell_type": "code",
      "execution_count": 61,
      "metadata": {
        "colab": {
          "base_uri": "https://localhost:8080/"
        },
        "id": "YNijIs36P1Rs",
        "outputId": "a353d58f-4f7e-4e1a-b720-43fb74afd47c"
      },
      "outputs": [
        {
          "name": "stdout",
          "output_type": "stream",
          "text": [
            "7862\n",
            "0.7862\n",
            "3.1448\n"
          ]
        }
      ],
      "source": [
        "#Exercise 2-10\n",
        "sum=0\n",
        "import random\n",
        "for x in range(100):\n",
        "  for y in range(100):\n",
        "    random_x=random.uniform(0,1)\n",
        "    random_y=random.uniform(0,1)\n",
        "    if random_x**2+random_y**2<1:\n",
        "      sum+=1\n",
        "probability=sum/10000\n",
        "print(sum)\n",
        "print(probability) #probability of x**2+y**2<1\n",
        "\n",
        "print(probability*4) #this shows that the probability above is  𝜋 ∕ 4"
      ]
    }
  ],
  "metadata": {
    "colab": {
      "provenance": []
    },
    "kernelspec": {
      "display_name": "Python 3",
      "name": "python3"
    },
    "language_info": {
      "name": "python"
    }
  },
  "nbformat": 4,
  "nbformat_minor": 0
}
