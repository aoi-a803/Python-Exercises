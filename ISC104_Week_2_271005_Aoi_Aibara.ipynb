{
  "nbformat": 4,
  "nbformat_minor": 0,
  "metadata": {
    "colab": {
      "provenance": []
    },
    "kernelspec": {
      "name": "python3",
      "display_name": "Python 3"
    },
    "language_info": {
      "name": "python"
    }
  },
  "cells": [
    {
      "cell_type": "code",
      "execution_count": 1,
      "metadata": {
        "colab": {
          "base_uri": "https://localhost:8080/"
        },
        "id": "-MNqUZvuCXMu",
        "outputId": "d5ccc2fd-0190-47af-9339-1a594b3997c6"
      },
      "outputs": [
        {
          "output_type": "stream",
          "name": "stdout",
          "text": [
            "0\n",
            "multiple of three\n",
            "1\n",
            "2\n",
            "3\n",
            "multiple of three\n",
            "4\n",
            "5\n",
            "6\n",
            "multiple of three\n",
            "7\n",
            "8\n",
            "9\n",
            "multiple of three\n"
          ]
        }
      ],
      "source": [
        "#Exercise 2-1\n",
        "for i in range(10):\n",
        "  print(i)\n",
        "  if i%3==0:\n",
        "    print('multiple of three')"
      ]
    },
    {
      "cell_type": "code",
      "source": [
        "#Exercise 2-2\n",
        "sumval=0\n",
        "#calculating the equation\n",
        "for i in range(1,6):\n",
        "  sumval+=6/i\n",
        "#printing out the equation\n",
        "print('6/1+6/2+6/3+6/4+6/5+6/6 =', sumval)\n"
      ],
      "metadata": {
        "colab": {
          "base_uri": "https://localhost:8080/"
        },
        "id": "BKGbpL-fCzQi",
        "outputId": "36042632-3eda-4017-a9f3-9108d07e379e"
      },
      "execution_count": 7,
      "outputs": [
        {
          "output_type": "stream",
          "name": "stdout",
          "text": [
            "6/1+6/2+6/3+6/4+6/5+6/6 = 13.7\n"
          ]
        }
      ]
    },
    {
      "cell_type": "code",
      "source": [
        "#Exercise 2-3\n",
        "count=0\n",
        "for x in range(1,10):\n",
        "  for y in range(1,10):\n",
        "      if (x*y)%12==0: #trying to filter the numbers that are the multiple of 12\n",
        "        count+=1\n",
        "print(count)"
      ],
      "metadata": {
        "colab": {
          "base_uri": "https://localhost:8080/"
        },
        "id": "eIry6rO9DgnG",
        "outputId": "debbf16e-24d9-43b9-b21a-45a33e95bd12"
      },
      "execution_count": 21,
      "outputs": [
        {
          "output_type": "stream",
          "name": "stdout",
          "text": [
            "15\n"
          ]
        }
      ]
    },
    {
      "cell_type": "code",
      "source": [
        "#Exercise 2-4\n",
        "for i in range(20):\n",
        "  if i%3==0 and i%5!=0:\n",
        "    print('Fizz')\n",
        "  elif i%3!=0 and i%5==0:\n",
        "    print('Buzz')\n",
        "  elif i%3==0 or i%5==0:\n",
        "    print('FizzBuzz')\n",
        "  else:\n",
        "    print(i)"
      ],
      "metadata": {
        "colab": {
          "base_uri": "https://localhost:8080/"
        },
        "id": "3KztoIx7Epib",
        "outputId": "7a77e933-3ce0-41b6-f27b-da601f421854"
      },
      "execution_count": 22,
      "outputs": [
        {
          "output_type": "stream",
          "name": "stdout",
          "text": [
            "FizzBuzz\n",
            "1\n",
            "2\n",
            "Fizz\n",
            "4\n",
            "Buzz\n",
            "Fizz\n",
            "7\n",
            "8\n",
            "Fizz\n",
            "Buzz\n",
            "11\n",
            "Fizz\n",
            "13\n",
            "14\n",
            "FizzBuzz\n",
            "16\n",
            "17\n",
            "Fizz\n",
            "19\n"
          ]
        }
      ]
    },
    {
      "cell_type": "code",
      "source": [
        "#Exercise 2-5\n",
        "import random\n",
        "tmpmin=1\n",
        "for x in range(10):\n",
        "  random_number=random.uniform(0,1)\n",
        "  if random_number<tmpmin:\n",
        "    tmpmin=random_number\n",
        "print('minval', tmpmin)\n"
      ],
      "metadata": {
        "colab": {
          "base_uri": "https://localhost:8080/"
        },
        "id": "3BXYylasGwgs",
        "outputId": "7783b9d5-80f8-4b4c-8d59-fe936a1aef86"
      },
      "execution_count": 26,
      "outputs": [
        {
          "output_type": "stream",
          "name": "stdout",
          "text": [
            "minval 0.038980480441771714\n"
          ]
        }
      ]
    },
    {
      "cell_type": "code",
      "source": [
        "#Exercise 2-6\n",
        "import random\n",
        "\n",
        "for x in range(1,11):\n",
        "  tmpmin=1 #to reset the function of searching for the minimum\n",
        "  for i in range(10):\n",
        "    random_number=random.random()\n",
        "    if random_number<tmpmin:\n",
        "      tmpmin=random_number\n",
        "  print(x, 'min_val', tmpmin)\n"
      ],
      "metadata": {
        "colab": {
          "base_uri": "https://localhost:8080/"
        },
        "id": "fayPu8gYIm7S",
        "outputId": "54b1eca9-3f45-4280-d165-28dfe4d5180b"
      },
      "execution_count": 42,
      "outputs": [
        {
          "output_type": "stream",
          "name": "stdout",
          "text": [
            "1 min_val 0.04790164559503851\n",
            "2 min_val 0.012096816955145973\n",
            "3 min_val 0.208410213458469\n",
            "4 min_val 0.05766909869955017\n",
            "5 min_val 0.10166563868937051\n",
            "6 min_val 0.17018002654696274\n",
            "7 min_val 0.03830935774673083\n",
            "8 min_val 0.0029363411608364087\n",
            "9 min_val 0.11208418236418816\n",
            "10 min_val 0.24257128387622295\n"
          ]
        }
      ]
    },
    {
      "cell_type": "code",
      "source": [
        "#Exercise 2-7\n",
        "import random\n",
        "count=0\n",
        "for i in range(100):\n",
        "  coin=random.uniform(0,1) #making the computer select a number randomly in between 0 and 1\n",
        "  if coin<0.1:\n",
        "    count+=1 #counting only the number of times the computer selected a number less than 0.1\n",
        "print(count)\n"
      ],
      "metadata": {
        "colab": {
          "base_uri": "https://localhost:8080/"
        },
        "id": "NLTOeRTBKACc",
        "outputId": "445df024-e9d2-4c46-a662-60734b01bc67"
      },
      "execution_count": 34,
      "outputs": [
        {
          "output_type": "stream",
          "name": "stdout",
          "text": [
            "12\n"
          ]
        }
      ]
    },
    {
      "cell_type": "code",
      "source": [
        "#Exercise 2-8\n",
        "sumval=0\n",
        "for x in range(100):#integer from 0 to 99\n",
        "  y=x*(100-x)\n",
        "  sumval+=y #adding the value of equation to the sum\n",
        "print(sumval)"
      ],
      "metadata": {
        "colab": {
          "base_uri": "https://localhost:8080/"
        },
        "id": "Cai0C7_bKrww",
        "outputId": "dc6a0a10-4bf5-4d6c-e3e2-76c5194985d2"
      },
      "execution_count": 49,
      "outputs": [
        {
          "output_type": "stream",
          "name": "stdout",
          "text": [
            "166650\n"
          ]
        }
      ]
    },
    {
      "cell_type": "code",
      "source": [
        "#Exercise 2-9\n",
        "tmpmax=0\n",
        "maxx=0\n",
        "for x in range(100):#integer from 0 to 99\n",
        "  y=x*(100-x)\n",
        "  if y>tmpmax:\n",
        "    tmpmax=y\n",
        "    maxx=x\n",
        "print('The max is ', tmpmax, 'when x is ', maxx)"
      ],
      "metadata": {
        "colab": {
          "base_uri": "https://localhost:8080/"
        },
        "id": "pKg8Cpk_ON_w",
        "outputId": "b162e703-ce74-45a9-e650-03d4111d1640"
      },
      "execution_count": 63,
      "outputs": [
        {
          "output_type": "stream",
          "name": "stdout",
          "text": [
            "The max is  2500 when x is  50\n"
          ]
        }
      ]
    },
    {
      "cell_type": "code",
      "source": [
        "#Exercise 2-10\n",
        "sum=0\n",
        "import random\n",
        "for x in range(100):\n",
        "  for y in range(100):\n",
        "    random_x=random.uniform(0,1)\n",
        "    random_y=random.uniform(0,1)\n",
        "    if random_x**2+random_y**2<1:\n",
        "      sum+=1\n",
        "probability=sum/10000\n",
        "print(sum)\n",
        "print(probability) #probability of x**2+y**2<1\n",
        "\n",
        "print(probability*4) #this shows that the probability above is  𝜋 ∕ 4"
      ],
      "metadata": {
        "colab": {
          "base_uri": "https://localhost:8080/"
        },
        "id": "YNijIs36P1Rs",
        "outputId": "a353d58f-4f7e-4e1a-b720-43fb74afd47c"
      },
      "execution_count": 61,
      "outputs": [
        {
          "output_type": "stream",
          "name": "stdout",
          "text": [
            "7862\n",
            "0.7862\n",
            "3.1448\n"
          ]
        }
      ]
    }
  ]
}