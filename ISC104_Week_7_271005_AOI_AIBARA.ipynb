{
  "nbformat": 4,
  "nbformat_minor": 0,
  "metadata": {
    "colab": {
      "provenance": []
    },
    "kernelspec": {
      "name": "python3",
      "display_name": "Python 3"
    },
    "language_info": {
      "name": "python"
    }
  },
  "cells": [
    {
      "cell_type": "code",
      "execution_count": 4,
      "metadata": {
        "colab": {
          "base_uri": "https://localhost:8080/"
        },
        "id": "zfVKGnSkIsrT",
        "outputId": "fd75556c-c09e-49d1-f55e-c4da6d737d59"
      },
      "outputs": [
        {
          "output_type": "stream",
          "name": "stdout",
          "text": [
            "21.545090797168363\n"
          ]
        }
      ],
      "source": [
        "#Exercise 7-1\n",
        "def cal(w, h):\n",
        "  y=w/(h*h) #formula to calculate BMI\n",
        "  return y\n",
        "print(cal(63, 1.71))#inputing w=63, h=1.71"
      ]
    },
    {
      "cell_type": "code",
      "source": [
        "#Exercise7-2\n",
        "def average(list):\n",
        "  avglist = []\n",
        "  sum = 0\n",
        "  count=0\n",
        "  for x in (list):\n",
        "    avglist.append(x) #adding the elements I want to calculate to the list\n",
        "    sum += x\n",
        "    count+= 1\n",
        "  return sum/count #returning the sum, the number of the element, and the list\n",
        "print(average([0.5,1.5,2.5,3.5]))"
      ],
      "metadata": {
        "colab": {
          "base_uri": "https://localhost:8080/"
        },
        "id": "wgwaeaB6JBRC",
        "outputId": "0923c8ee-1771-4838-99b7-cc18f6a3af30"
      },
      "execution_count": 54,
      "outputs": [
        {
          "output_type": "stream",
          "name": "stdout",
          "text": [
            "2.0\n"
          ]
        }
      ]
    },
    {
      "cell_type": "code",
      "source": [
        "#Exercise 7-3\n",
        "def stringtonum(numlist):\n",
        "  nlist = []\n",
        "  for x in (numlist):\n",
        "    nlist.append(float(x)) #converting the inserted elements to float type\n",
        "  return nlist #returning to the list\n",
        "print(stringtonum(['0.5','1.5', '2.5', '3.5']))"
      ],
      "metadata": {
        "colab": {
          "base_uri": "https://localhost:8080/"
        },
        "id": "b44T9rYYKfCR",
        "outputId": "1027b66a-a71d-4b13-9a8b-ba185e27a1ab"
      },
      "execution_count": 23,
      "outputs": [
        {
          "output_type": "stream",
          "name": "stdout",
          "text": [
            "[0.5, 1.5, 2.5, 3.5]\n"
          ]
        }
      ]
    },
    {
      "cell_type": "code",
      "source": [
        "#Exercise 7-3.5\n",
        "def stringtonum(numlist):\n",
        "  nlist = []\n",
        "  for x in (numlist):\n",
        "    nlist.append(float(x)) #converting the inserted elements to float type\n",
        "  return nlist #returning to the list\n",
        "\n",
        "x= stringtonum(['0.5','1.5', '2.5', '3.5'])\n",
        "\n",
        "def average(list):\n",
        "  avglist = []\n",
        "  sum = 0\n",
        "  count=0\n",
        "  for i in (list):\n",
        "    avglist.append(x) #adding the elements I want to calculate to the list\n",
        "    sum += i\n",
        "    count+= 1\n",
        "  return sum/count #returning the sum, the number of the element, and the list\n",
        "print(average(x))"
      ],
      "metadata": {
        "colab": {
          "base_uri": "https://localhost:8080/"
        },
        "id": "9ibmTkS1NdYE",
        "outputId": "85672ae8-b74d-4f56-dd4b-bd461151154e"
      },
      "execution_count": 55,
      "outputs": [
        {
          "output_type": "stream",
          "name": "stdout",
          "text": [
            "2.0\n"
          ]
        }
      ]
    },
    {
      "cell_type": "code",
      "source": [
        "#Exercise 7-4\n",
        "def average(list):\n",
        "  avglist = []\n",
        "  sum = 0\n",
        "  count=0\n",
        "  for x in (list):\n",
        "    avglist.append(x) #adding the elements I want to calculate to the list\n",
        "    sum += x\n",
        "    count+= 1\n",
        "  return sum/count #returning the sum, the number of the element, and the list\n",
        "\n",
        "def stringtonum(numlist):\n",
        "  nlist = []\n",
        "  for x in (numlist):\n",
        "    nlist.append(float(x)) #converting the inserted elements to float type\n",
        "  return nlist #returning to the list\n",
        "\n",
        "templist=[]\n",
        "rf = open('TokyoTemp1941-2020.csv','r') #opening the file\n",
        "for line in rf:\n",
        "  striped = line.strip() #this is removing the line feed code\n",
        "  string=striped.split(',') #splitting the data between ','\n",
        "  floatstring=stringtonum(string) #converting all the elements into float\n",
        "  ey_average=average(floatstring) #calculating the average of each line\n",
        "  templist.append(ey_average) #appending each calcualtion to templist\n",
        "\n",
        "import matplotlib.pyplot as plt\n",
        "plt.plot(templist)\n",
        "plt.show()\n",
        "rf.close()"
      ],
      "metadata": {
        "colab": {
          "base_uri": "https://localhost:8080/",
          "height": 433
        },
        "id": "GCeuh50SV8cc",
        "outputId": "ac14a491-1a1f-48c1-e4f3-e6859daac3b4"
      },
      "execution_count": 60,
      "outputs": [
        {
          "output_type": "display_data",
          "data": {
            "text/plain": [
              "<Figure size 640x480 with 1 Axes>"
            ],
            "image/png": "[encoded data removed]"
          },
          "metadata": {}
        }
      ]
    },
    {
      "cell_type": "code",
      "source": [
        "#Exercise 7-5(a)\n",
        "def len(c):\n",
        "  count=0\n",
        "  for i in c:\n",
        "    count+=1\n",
        "  return count #outputting the counted number\n",
        "print(len([1, 2, 3, 4, 5])) #inputting the elements"
      ],
      "metadata": {
        "colab": {
          "base_uri": "https://localhost:8080/"
        },
        "id": "rFyglR_ue4vW",
        "outputId": "e254ff75-19d2-4501-9f87-e679faba8580"
      },
      "execution_count": 62,
      "outputs": [
        {
          "output_type": "stream",
          "name": "stdout",
          "text": [
            "5\n"
          ]
        }
      ]
    },
    {
      "cell_type": "code",
      "source": [
        "#Exercise 7-5(b)\n",
        "def mysplit(string, delimiter):\n",
        "  result=[] #making a list\n",
        "  quote=''\n",
        "  for word in string:\n",
        "    if word==delimiter: #if the word is ' ' or ',' the previously added elements will be added to the list\n",
        "      result.append(quote)\n",
        "      quote=''\n",
        "    else:\n",
        "      quote+=word #adds up the elements before ' ' or ','\n",
        "\n",
        "  if quote: #once the loop is done, it finally adds to the list\n",
        "    result.append(quote)\n",
        "  return result\n",
        "\n",
        "print(mysplit('abc def', ' '))"
      ],
      "metadata": {
        "colab": {
          "base_uri": "https://localhost:8080/"
        },
        "id": "lWEhV1tEfPz5",
        "outputId": "1ab21eaf-b05f-4876-cc06-fd11a4cc588b"
      },
      "execution_count": 3,
      "outputs": [
        {
          "output_type": "stream",
          "name": "stdout",
          "text": [
            "['abc', 'def']\n"
          ]
        }
      ]
    },
    {
      "cell_type": "code",
      "source": [
        "#Exercise 7-6\n",
        "import random\n",
        "def addsubone(a):\n",
        "  return random.choice([a+1, a-1]) #either adding 1 or subtracting 1\n",
        "print(addsubone(0)) #in case of 0"
      ],
      "metadata": {
        "colab": {
          "base_uri": "https://localhost:8080/"
        },
        "id": "-cv3PGLo323L",
        "outputId": "8aaa1800-dc68-4002-961e-4568a5df3111"
      },
      "execution_count": 5,
      "outputs": [
        {
          "output_type": "stream",
          "name": "stdout",
          "text": [
            "1\n"
          ]
        }
      ]
    },
    {
      "cell_type": "code",
      "source": [
        "#Exercise 7-7(a)\n",
        "import random\n",
        "def addsubone(initpos, rwlen):\n",
        "  add_sub=[]\n",
        "  for i in range(int(rwlen)):\n",
        "    if len(add_sub)==0: #when nothing is in the list\n",
        "      add_sub.append(random.choice([initpos+1, initpos-1])) #either add or subtract from the initial number\n",
        "    else:\n",
        "      add_sub.append(random.choice([add_sub[-1] + 1, add_sub[-1] - 1])) #then, keep on adding or subtracting one from the previous number\n",
        "  return add_sub\n",
        "\n",
        "print(addsubone(0, 10))"
      ],
      "metadata": {
        "colab": {
          "base_uri": "https://localhost:8080/"
        },
        "id": "AHI5Kr_06cwT",
        "outputId": "88f762a4-67f0-4e90-f91b-87dd3eb19ce0"
      },
      "execution_count": 23,
      "outputs": [
        {
          "output_type": "stream",
          "name": "stdout",
          "text": [
            "[1, 0, 1, 2, 1, 2, 3, 4, 5, 4]\n"
          ]
        }
      ]
    },
    {
      "cell_type": "code",
      "source": [
        "#Exercise 7-7(b)\n",
        "import random\n",
        "def addsubone(initpos, rwlen):\n",
        "  add_sub=[]\n",
        "  for i in range(int(rwlen)):\n",
        "    if len(add_sub)==0: #when nothing is in the list\n",
        "      add_sub.append(random.choice([initpos+1, initpos-1])) #either add or subtract from the initial number\n",
        "    else:\n",
        "      add_sub.append(random.choice([add_sub[-1] + 1, add_sub[-1] - 1])) #then, keep on adding or subtracting one from the previous number\n",
        "  return add_sub\n",
        "result=addsubone(0,1000)\n",
        "\n",
        "import matplotlib.pyplot as plt\n",
        "plt.plot(result) #plotting the diagram when the function's initpos is 0 and rwlen is 1000\n",
        "plt.show()\n",
        "\n",
        "print(result[-1]) #printing the last element of the function"
      ],
      "metadata": {
        "colab": {
          "base_uri": "https://localhost:8080/",
          "height": 448
        },
        "id": "fIEpB5z17Pp-",
        "outputId": "cbe14a06-a982-43f0-8c4a-de13edf28d93"
      },
      "execution_count": 32,
      "outputs": [
        {
          "output_type": "display_data",
          "data": {
            "text/plain": [
              "<Figure size 640x480 with 1 Axes>"
            ],
            "image/png": "[encoded data removed]"
          },
          "metadata": {}
        },
        {
          "output_type": "stream",
          "name": "stdout",
          "text": [
            "34\n"
          ]
        }
      ]
    },
    {
      "cell_type": "code",
      "source": [
        "#Exercise 7-7(c)\n",
        "import random\n",
        "def addsubone(initpos, rwlen):\n",
        "  add_sub=[]\n",
        "  for i in range(int(rwlen)):\n",
        "    if len(add_sub)==0: #when nothing is in the list\n",
        "      add_sub.append(random.choice([initpos+1, initpos-1])) #either add or subtract from the initial number\n",
        "    else:\n",
        "      add_sub.append(random.choice([add_sub[-1] + 1, add_sub[-1] - 1])) #then, keep on adding or subtracting one from the previous number\n",
        "  return add_sub\n",
        "result=addsubone(0,1000)\n",
        "\n",
        "last=[]\n",
        "for _ in range(1000):\n",
        "  repeat = addsubone(0,1000) #repeating the output of addsubone(0, 1000)\n",
        "  last.append(repeat[-1]) #adding the last value of each repitition to a list\n",
        "\n",
        "import matplotlib.pyplot as plt\n",
        "plt.hist(last, bins=201, range=(-100, 100)) #plotting the diagram in histogram\n",
        "plt.show()"
      ],
      "metadata": {
        "colab": {
          "base_uri": "https://localhost:8080/",
          "height": 430
        },
        "id": "j0cLWAXu-r_5",
        "outputId": "ce041556-ac13-4122-a55e-cc40eb72bdfd"
      },
      "execution_count": 38,
      "outputs": [
        {
          "output_type": "display_data",
          "data": {
            "text/plain": [
              "<Figure size 640x480 with 1 Axes>"
            ],
            "image/png": "[encoded data removed]"
          },
          "metadata": {}
        }
      ]
    },
    {
      "cell_type": "code",
      "source": [
        "#Exercise 7-8\n",
        "import random\n",
        "def recover(patient, recoverprob):\n",
        "  for i in range(len(patient)): #doing the loop for the number of elements in list patient\n",
        "    if patient[i]==1: #when the element is 1\n",
        "      number=random.random() #the number is randomly selected\n",
        "      if number<=recoverprob: #when the randomlyn selected number is below the given recoverprob\n",
        "        patient[i]=2 #the element in patient will be replaced with 2\n",
        "  return patient\n",
        "\n",
        "print(recover([0,1,0,1], 1))\n",
        "print(recover([0,1,0,1],0 ))\n",
        "print(recover( [0,1,0,1],0.5 ))"
      ],
      "metadata": {
        "colab": {
          "base_uri": "https://localhost:8080/"
        },
        "id": "2AtlLCtBArYp",
        "outputId": "29ec6fb8-47dd-4bcf-9b10-e694b61a075e"
      },
      "execution_count": 11,
      "outputs": [
        {
          "output_type": "stream",
          "name": "stdout",
          "text": [
            "[0, 2, 0, 2]\n",
            "[0, 1, 0, 1]\n",
            "[0, 1, 0, 1]\n"
          ]
        }
      ]
    },
    {
      "cell_type": "code",
      "source": [
        "#Exercise 7-9\n",
        "import random\n",
        "def infect(patient, infectprb):\n",
        "  ind1=random.randint(0,len(patient)-1) #generating random\n",
        "  ind2=random.randint(0, len(patient)-1)\n",
        "\n",
        "  while ind1==ind2: #make sure that ind1 and ind2 have different numbers\n",
        "    ind2=random.randint(0, len(patient)-1)\n",
        "\n",
        "  if patient[ind1]!=patient[ind2]: #when they are not the same\n",
        "    number=random.random() #generate a random number\n",
        "    if number <= infectprb: #when the number is less than or equal to infectprb\n",
        "\n",
        "      if patient[ind1]==0: #when the ind1 is uninfected, infect ind1\n",
        "        patient[ind1]==1\n",
        "      else:\n",
        "        patient[ind2]==1 #when ind1 is infected, infect ind2\n",
        "  return patient\n",
        "\n",
        "print(infect([0,1,0,1],1))\n",
        "print(infect([0,1,0,1],0))\n",
        "print(infect([0,1,0,1],0.5))"
      ],
      "metadata": {
        "colab": {
          "base_uri": "https://localhost:8080/"
        },
        "id": "ODQClpTVNxYX",
        "outputId": "3c51bf88-aa47-4d71-893b-7a6aa151cc7b"
      },
      "execution_count": 18,
      "outputs": [
        {
          "output_type": "stream",
          "name": "stdout",
          "text": [
            "[0, 1, 0, 1]\n",
            "[0, 1, 0, 1]\n",
            "[0, 1, 0, 1]\n"
          ]
        }
      ]
    },
    {
      "cell_type": "code",
      "source": [
        "import random\n",
        "\n",
        "# Exercise 7-10\n",
        "def get_user_name():\n",
        "    name = input('Please enter your name: ')\n",
        "    print('Choose how you want to be called')\n",
        "    print('1. san')\n",
        "    print('2. kun')\n",
        "    print('3. chan')\n",
        "    honorifics_choose = input('Choose a number (1/2/3): ')\n",
        "\n",
        "    honorifics = {'1': 'san', '2': 'kun', '3': 'chan'} # creating a match of the input to the choices\n",
        "    honorific = honorifics.get(honorifics_choose, '')  # honorifics will be corresponding to the number it is inputted and otherwise it will be a ' '\n",
        "\n",
        "    return f'{name} {honorific}'\n",
        "\n",
        "def get_random_message():\n",
        "    messages = ['Why don’t skeletons fight each other? Bc they dont have the guts', 'Why did the scarecrow win an award? Bc he was outstanding in his field!', 'What do you call a bear with no teeth? A gummy bear!']\n",
        "    return random.choice(messages)  #randomly selects the jokes from the list above\n",
        "\n",
        "def generate_response(text, user):\n",
        "    responses = {'hello': f'Hello, {user}!','hi':f'Hello, {user}!', 'thank you': 'No problem!', 'goodbye': 'See you soon!'}\n",
        "\n",
        "    for key in responses: #checking if the keyword is included in the input\n",
        "        if key in text:\n",
        "            return responses[key] #if the key is included in the input, generate the value in the dictionary\n",
        "\n",
        "    return get_random_message() # return a random message if no keywords match\n",
        "\n",
        "def chatbot():\n",
        "    user_name = get_user_name()\n",
        "    print(f'Hello, {user_name}!')\n",
        "\n",
        "    while True:\n",
        "        text = input(f'{user_name}: ').lower().strip()\n",
        "        if any(bye in text for bye in ['bye', 'goodbye']): #if the user uses 'bye' in text\n",
        "            print(f'Chatbot: Goodbye, {user_name}!')\n",
        "            break\n",
        "\n",
        "        reply = generate_response(text, user_name) #inputting the input of the user and the name to the response\n",
        "        print(f'Chatbot: {reply}')\n",
        "\n",
        "chatbot()"
      ],
      "metadata": {
        "colab": {
          "base_uri": "https://localhost:8080/"
        },
        "id": "HNOjST-0Ucc2",
        "outputId": "4332553f-67d2-43eb-b466-149b820a544c"
      },
      "execution_count": 10,
      "outputs": [
        {
          "output_type": "stream",
          "name": "stdout",
          "text": [
            "Please enter your name: aoi\n",
            "Choose how you want to be called\n",
            "1. san\n",
            "2. kun\n",
            "3. chan\n",
            "Choose a number (1/2/3): 3\n",
            "Hello, aoi chan!\n",
            "aoi chan: bye\n",
            "Chatbot: Goodbye, aoi chan!\n"
          ]
        }
      ]
    }
  ]
}