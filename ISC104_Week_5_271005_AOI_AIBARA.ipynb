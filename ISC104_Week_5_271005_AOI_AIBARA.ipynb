{
  "nbformat": 4,
  "nbformat_minor": 0,
  "metadata": {
    "colab": {
      "provenance": []
    },
    "kernelspec": {
      "name": "python3",
      "display_name": "Python 3"
    },
    "language_info": {
      "name": "python"
    }
  },
  "cells": [
    {
      "cell_type": "code",
      "execution_count": null,
      "metadata": {
        "colab": {
          "base_uri": "https://localhost:8080/"
        },
        "id": "bGHvVASAJahR",
        "outputId": "c65a12d4-cef6-4dd8-9551-0da07d30f0ba"
      },
      "outputs": [
        {
          "output_type": "stream",
          "name": "stdout",
          "text": [
            "abcd\n",
            "1234\n"
          ]
        }
      ],
      "source": [
        "#Exercise 5-1\n",
        "f = open('week5-test.txt')\n",
        "for line in f:\n",
        "  striped = line.strip() #this is removing the line feed code\n",
        "  print(striped)\n",
        "f.close()"
      ]
    },
    {
      "cell_type": "code",
      "source": [
        "#Exercise 5-2\n",
        "i=0\n",
        "f = open('week5-test.txt')\n",
        "for line in f:\n",
        "  i+=1 #trying to get the number of the line\n",
        "  striped = line.strip() #this is removing the line feed code\n",
        "  print(i, striped)\n",
        "f.close()"
      ],
      "metadata": {
        "colab": {
          "base_uri": "https://localhost:8080/"
        },
        "id": "ajC7FF1iKDV1",
        "outputId": "f4ac163a-e72c-45f9-8bd0-aa5eba74d361"
      },
      "execution_count": null,
      "outputs": [
        {
          "output_type": "stream",
          "name": "stdout",
          "text": [
            "1 abcd\n",
            "2 1234\n"
          ]
        }
      ]
    },
    {
      "cell_type": "code",
      "source": [
        "#Exercise 5-3\n",
        "i=0\n",
        "f = open('icuhistory.txt')\n",
        "for line in f:\n",
        "  i+=1\n",
        "  striped = line.strip() #this is removing the line feed code\n",
        "  if i==10+1:\n",
        "    break\n",
        "  print(i, striped)\n",
        "\n",
        "f.close()"
      ],
      "metadata": {
        "colab": {
          "base_uri": "https://localhost:8080/"
        },
        "id": "ZCcYZrUQKzNS",
        "outputId": "3f9bf607-3ddb-4502-da8d-6322c77c110a"
      },
      "execution_count": 24,
      "outputs": [
        {
          "output_type": "stream",
          "name": "stdout",
          "text": [
            "1 in the fall of 1945 just weeks after the end\n",
            "2 of world war ii a group of japanese christian educators\n",
            "3 initiated a move to establish a university based on christian\n",
            "4 principles the foreign missions conference of north america and the\n",
            "5 us education mission both visiting japan at the time\n",
            "6 gave their wholehearted support conveying this plan to people in\n",
            "7 the us amidst the post-war yearning for reconciliation and\n",
            "8 world peace americans supported this project with great enthusiasm in\n",
            "9 1948 the japan international christian university foundation jicuf was\n",
            "10 established in new york to coordinate fund-raising efforts in the\n"
          ]
        }
      ]
    },
    {
      "cell_type": "code",
      "source": [
        "#Exercise 5-4\n",
        "f = open('icuhistory.txt')\n",
        "for line in f:\n",
        "  striped = line.strip()\n",
        "  matchplace = line.find(\"icu\") #determining which line has 'icu'\n",
        "  if matchplace!=-1: #limiting the printing lines to what contains 'icu'\n",
        "    print(striped)\n",
        "f.close()"
      ],
      "metadata": {
        "id": "sIhX54wHLlNz",
        "colab": {
          "base_uri": "https://localhost:8080/"
        },
        "outputId": "1f945e7e-182a-404e-9dd5-5bf22e230e6d"
      },
      "execution_count": 27,
      "outputs": [
        {
          "output_type": "stream",
          "name": "stdout",
          "text": [
            "1948 the japan international christian university foundation jicuf was\n",
            "lead the national fund raising drive icu has been unique from\n",
            "in 1950 icu purchased a spacious site in mitaka city\n",
            "in march 1953 the japanese ministry of education authorized icu\n",
            "science and technology selected icu s research and education\n",
            "icu for its fiscal year 2007 distinctive university education support\n",
            "icu is continually working to reconfirm its responsibilities and fulfill\n"
          ]
        }
      ]
    },
    {
      "cell_type": "code",
      "source": [
        "#Exercise 5-5\n",
        "wordlist=[]\n",
        "count=0 #the number for counting all the words\n",
        "count_u=0 #the number for counting all the unique words\n",
        "\n",
        "f = open('icuhistory.txt')\n",
        "for line in f:\n",
        "  striped = line.strip()\n",
        "  words = striped.split(\" \")\n",
        "  for word in words:\n",
        "    wordlist.append(word) #generating a wordlist with all words from the file\n",
        "\n",
        "for element in wordlist: #counting number of words in the wordlist\n",
        "  count+=1\n",
        "\n",
        "uniquewordlist=set(wordlist) #eliminating the duplicates\n",
        "for element in uniquewordlist:\n",
        "  count_u+=1 #counting the number of elements in the uniquewordlist\n",
        "print('The number of words:', count)\n",
        "print('The number of unique words:', count_u)\n",
        "f.close()"
      ],
      "metadata": {
        "colab": {
          "base_uri": "https://localhost:8080/"
        },
        "id": "hZ_4vHOwOqg2",
        "outputId": "c3e0e061-ceca-46ef-c096-3bbff2bfad12"
      },
      "execution_count": 30,
      "outputs": [
        {
          "output_type": "stream",
          "name": "stdout",
          "text": [
            "The number of words: 548\n",
            "The number of unique words: 274\n"
          ]
        }
      ]
    },
    {
      "cell_type": "code",
      "source": [
        "#Exercise 5-6\n",
        "diction={}\n",
        "wordlist=[]\n",
        "count=0\n",
        "f = open('icuhistory.txt')\n",
        "for line in f:\n",
        "  striped = line.strip()\n",
        "  words = striped.split(\" \")\n",
        "  for word in words:\n",
        "    wordlist.append(word) #generating a wordlist with all words from the file\n",
        "\n",
        "for element in wordlist: #counting number of words in the wordlist\n",
        "  count+=1\n",
        "\n",
        "for i in set(wordlist): #for all the elements in the list that eliminated the duplicates\n",
        "  diction[i]=wordlist.count(i) #the value of key is the number of its appearance\n",
        "print(diction)\n",
        "f.close()"
      ],
      "metadata": {
        "colab": {
          "base_uri": "https://localhost:8080/"
        },
        "id": "4fWvjZU5QbXb",
        "outputId": "eecb1119-9a8b-4969-fdae-6e88fcbc534b"
      },
      "execution_count": 44,
      "outputs": [
        {
          "output_type": "stream",
          "name": "stdout",
          "text": [
            "{'': 1, 'laid': 1, 'selected': 1, 'foundation': 2, 'project': 1, 'through': 2, 'missions': 1, '29': 1, 'make': 1, 'both': 1, 'america': 1, '2007': 1, '31': 1, '2004': 1, 'the': 40, 'tokyo': 1, 'within': 1, 'learning': 1, 'acknowledgement': 1, '1953': 1, 'four-year': 1, 'organization': 2, 'mission': 2, 'inauguration': 1, 'as': 4, 'excellence': 1, 'ambitious': 1, 'christian': 6, 'major': 1, 'good': 2, 'advising': 1, 'at': 2, 'divisions': 2, 'visiting': 1, 'dream': 1, 'projects': 1, 'unique': 1, 'conducted': 1, 'was': 3, 'procured': 1, 'war': 1, 's': 2, 'has': 1, 'international': 3, 'a': 13, 'during': 1, 'set': 1, 'gave': 1, 'students': 3, 'fund': 1, 'events': 1, 'plan': 2, 'school': 2, 'icu': 6, 'great': 1, 'culture': 1, 'by': 1, 'transcending': 1, 'start': 1, 'were': 1, 'leading': 1, 'decision': 1, 'half': 1, 'york': 1, 'year': 4, 'enforced': 1, 'also': 2, 'supporting': 1, 'on': 5, 'center': 1, 'down': 1, 'authorized': 1, 'while': 1, 'majors': 1, 'after': 1, 'their': 5, 'an': 3, 'in': 19, 'program': 3, 'march': 2, 'sophomore': 1, 'dedicated': 2, 'april': 3, 'replaced': 1, 'is': 1, 'purchased': 1, 'sports': 1, 'academic': 4, 'enthusiasm': 1, 'firms': 1, 'bank': 1, 'aspirations': 1, 'into': 1, 'conference': 2, 'university': 8, 'regardless': 1, 'reconciliation': 1, 'leaders': 1, 'board': 2, 'supported': 1, 'headed': 1, 'june': 1, 'all': 1, 'national': 2, 'finally': 1, 'ii': 1, '1999': 1, 'ministry': 2, 'general': 1, 'of': 26, 'organizations': 1, 'technology': 1, '2010': 1, '2003': 1, 'have': 1, 'it': 1, 'practice': 1, 'circumstances': 1, '21st': 1, 'educators': 1, 'with': 7, 'been': 2, 'and': 18, 'working': 1, 'fulfill': 1, 'which': 1, '15': 1, 'mext': 1, 'study': 1, 'often': 1, 'simply': 1, 'drive': 1, 'post-war': 2, 'incorporated': 1, 'century': 2, 'site': 1, 'period': 1, 'initiated': 1, 'college': 4, 'new': 4, 'raising': 1, 'institution': 1, 'endowment': 1, 'continually': 1, 'fall': 1, 'just': 1, 'division': 1, 'education': 7, 'cause': 1, 'city': 1, 'fiscal': 1, '1': 1, 'coordinate': 1, 'orientation': 1, '1948': 1, 'received': 1, 'found': 1, 'destitute': 1, 'global': 1, 'foreign': 1, 'amidst': 1, 'conveying': 1, '50th': 1, 'ichimada': 1, 'japan': 6, '1950': 1, 'five': 1, 'jicuf': 1, 'science': 1, 'camp': 1, 'chose': 1, 'four': 1, 'immediate': 1, 'diverse': 2, 'reconfirm': 1, 'fundamental': 1, 'established': 1, 'commemorative': 1, 'campus': 1, 'weeks': 1, 'us': 3, 'people': 2, 'wholehearted': 1, 'from': 3, 'founding': 1, 'establish': 2, 'yearning': 1, 'trustees': 1, 'christians': 1, 'improvement': 1, 'japanese': 4, 'convened': 1, 'move': 1, 'world': 2, 'inception': 1, 'graduate': 1, 'individuals': 1, 'donations': 2, 'borders': 1, 'responsible': 1, 'north': 2, 'security': 1, 'principles': 2, 'citizens': 1, 'nurture': 2, 'research': 1, 'opening': 1, 'to': 12, 'times': 1, 'system': 2, '1949': 1, 'governor': 1, 'gotemba': 2, 'establishing': 1, 'mitaka': 1, 'first': 2, 'celebrated': 1, 'up': 1, 'for': 9, 'arts': 8, 'conviviality': 1, 'distinctive': 2, 'integrated': 1, 'subjects': 1, 'language': 1, 'hope': 1, 'they': 1, 'outskirts': 1, 'support': 4, 'americans': 1, 'anddespite': 1, 'choice': 1, 'courses': 1, 'more': 1, 'making': 1, 'reform': 2, '1945': 1, 'six': 1, 'end': 2, 'fund-raising': 1, 'made': 1, 'american': 2, 'this': 3, 'interdenominational': 1, 'changing': 1, 'institute': 1, 'areas': 1, 'lead': 1, 'hisato': 1, 'now': 1, 'years': 1, 'time': 2, 'peace': 3, 'efforts': 2, 'councillors': 1, 'had': 2, 'liberal': 6, '2008': 2, 'its': 7, 'based': 1, 'undertaking': 1, 'religious': 1, 'group': 1, 'will': 1, 'anniversary': 1, 'responsibilities': 1, 'ymca': 1, 'planning': 1, 'sciences': 2, 'realized': 1, 'spacious': 1, '1952': 1, 'educational': 4, 'toworld': 1}\n"
          ]
        }
      ]
    },
    {
      "cell_type": "code",
      "source": [
        "#Exercise 5-7\n",
        "scoredict={}\n",
        "\n",
        "f = open('scorelist.txt')\n",
        "for line in f:\n",
        "  striped = line.strip()\n",
        "  ID = striped.split(' ')\n",
        "  scoredict[ID[0]]=int(ID[1]) #the first value of each list is the key of the dictionary; its value is equal to the second element of the line\n",
        "print(scoredict)\n",
        "f.close()"
      ],
      "metadata": {
        "colab": {
          "base_uri": "https://localhost:8080/"
        },
        "id": "EcGGbZdyRxdx",
        "outputId": "66d5c11d-6743-4daa-bc39-ec9e5b7bd9a5"
      },
      "execution_count": 65,
      "outputs": [
        {
          "output_type": "stream",
          "name": "stdout",
          "text": [
            "{'121787': 74, '121367': 71, '121817': 88, '121619': 85, '131445': 80, '131244': 96, '131872': 98, '131963': 75, '131172': 78, '131965': 72, '131112': 90, '131956': 87, '141105': 61, '141703': 61, '141407': 78, '141569': 82, '141585': 89, '141455': 82, '141370': 80, '141837': 67, '141857': 86, '141497': 94, '141853': 67, '141245': 80, '151452': 83, '151238': 62, '151827': 58, '151409': 40, '151789': 95, '151742': 71, '151133': 40, '151095': 49, '151186': 75, '151586': 51, '151926': 73, '151975': 96, '151079': 49, '151091': 100, '151588': 49, '151630': 61}\n"
          ]
        }
      ]
    },
    {
      "cell_type": "code",
      "source": [
        "#Exercise 5-8\n",
        "scoredict={}\n",
        "sum=0\n",
        "f = open('scorelist.txt')\n",
        "for line in f:\n",
        "  striped = line.strip()\n",
        "  ID = striped.split(' ')\n",
        "  scoredict[ID[0]]=int(ID[1]) #the first value of each list is the key of the dictionary; its value is equal to the second element of the line\n",
        "  sum+=int(ID[1]) #the total of all the values, which is the score\n",
        "print('The average score is:', sum/40) #calculating the average\n",
        "f.close()"
      ],
      "metadata": {
        "colab": {
          "base_uri": "https://localhost:8080/"
        },
        "id": "OCEzrLV3fa6i",
        "outputId": "b3e4c29b-a18f-4bac-9784-d8b09b5b6e08"
      },
      "execution_count": 69,
      "outputs": [
        {
          "output_type": "stream",
          "name": "stdout",
          "text": [
            "The average score is: 74.325\n"
          ]
        }
      ]
    },
    {
      "cell_type": "code",
      "source": [
        "#Exercise 5-9\n",
        "scoredict={}\n",
        "\n",
        "f = open('scorelist.txt')\n",
        "for line in f:\n",
        "  striped = line.strip()\n",
        "  ID = striped.split(' ')\n",
        "  scoredict[ID[0]]=int(ID[1]) #the first value of each list is the key of the dictionary; its value is equal to the second element of the line\n",
        "\n",
        "  if int(ID[1])>=90:\n",
        "    scoredict[ID[0]]=\"A\"\n",
        "  elif int(ID[1])>=80:\n",
        "    scoredict[ID[0]]=\"B\"\n",
        "  elif int(ID[1])>=70:\n",
        "    scoredict[ID[0]]=\"C\"\n",
        "  elif int(ID[1])>=60:\n",
        "    scoredict[ID[0]]=\"D\"\n",
        "  else:\n",
        "    scoredict[ID[0]]=\"F\"\n",
        "print(scoredict)\n",
        "f.close()\n",
        "\n",
        "scorelist= []\n",
        "for value in scoredict.values(): #turn the values of the dictionary into a list\n",
        "  scorelist.append(value)\n",
        "  scorelist=sorted(scorelist) #sort it alphabetically\n",
        "\n",
        "freq={}\n",
        "for grade in scorelist: #generating a dictionary counting frequency\n",
        "  freq[grade]=scorelist.count(grade)\n",
        "print(freq)"
      ],
      "metadata": {
        "colab": {
          "base_uri": "https://localhost:8080/"
        },
        "id": "wZ0kb9higO2B",
        "outputId": "240655e1-64c5-4f1e-e79a-be9b95676421"
      },
      "execution_count": 94,
      "outputs": [
        {
          "output_type": "stream",
          "name": "stdout",
          "text": [
            "{'121787': 'C', '121367': 'C', '121817': 'B', '121619': 'B', '131445': 'B', '131244': 'A', '131872': 'A', '131963': 'C', '131172': 'C', '131965': 'C', '131112': 'A', '131956': 'B', '141105': 'D', '141703': 'D', '141407': 'C', '141569': 'B', '141585': 'B', '141455': 'B', '141370': 'B', '141837': 'D', '141857': 'B', '141497': 'A', '141853': 'D', '141245': 'B', '151452': 'B', '151238': 'D', '151827': 'F', '151409': 'F', '151789': 'A', '151742': 'C', '151133': 'F', '151095': 'F', '151186': 'C', '151586': 'F', '151926': 'C', '151975': 'A', '151079': 'F', '151091': 'A', '151588': 'F', '151630': 'D'}\n",
            "{'A': 7, 'B': 11, 'C': 9, 'D': 6, 'F': 7}\n"
          ]
        }
      ]
    },
    {
      "cell_type": "code",
      "source": [
        "#Exercise 5-10\n",
        "\n",
        "from datetime import datetime # importing the current date\n",
        "current_datetime = datetime.now().strftime(\"%Y-%m-%d\")\n",
        "\n",
        "content = input('Add a new diary entry: ') #inputing the entry of the diary\n",
        "\n",
        "wf = open('diary.txt', 'w')\n",
        "wf.write(f'Date: {current_datetime}\\n') #printing the date of the day\n",
        "wf.write(f'Diary entry: {content}\\n') #printing the entry after a line\n",
        "wf.close()\n",
        "\n",
        "\n",
        "print(current_datetime)\n",
        "if len(content) ==0: #checks whether the file contains entries\n",
        "  print('No diary entries found.')\n",
        "\n",
        "else:\n",
        "  f=open('diary.txt','r')\n",
        "  for line in f:\n",
        "    striped = line.strip()\n",
        "    print(striped)\n",
        "  print('Diary entry added.')\n",
        "\n",
        "while True:\n",
        "  print('\\n1. Add new entry: ')\n",
        "  print('2. View all entries')\n",
        "  print(\"3. Search for Diary Entries by Date\")\n",
        "  print(\"4. Exit\")\n",
        "  choice = input('Choose an option(1-4): ')\n",
        "\n",
        "  if choice=='1':\n",
        "    current_datetime = datetime.now().strftime(\"%Y-%m-%d\")\n",
        "    content = input('Add a new diary entry: ') #inputing the entry of the diary\n",
        "    wf = open('diary.txt', 'a') #appends the entry to the file\n",
        "    wf.write(f'Date: {current_datetime}\\n') #printing the date of the day\n",
        "    wf.write(f'Diary entry: {content}\\n') #printing the entry after a line\n",
        "\n",
        "    print(current_datetime)\n",
        "    if len(content) ==0: #checks whether the file contains entries\n",
        "      print('No diary entries found.')\n",
        "\n",
        "    else:\n",
        "      wf=open('diary.txt','r') #reads the file\n",
        "      for line in f:\n",
        "        striped = line.strip()\n",
        "        print(striped)\n",
        "      print('Diary entry added.')\n",
        "\n",
        "  elif choice=='2':\n",
        "    if len(content)==0: #checks whether the file contains entries\n",
        "      print('No diary entries found.')\n",
        "\n",
        "    else:\n",
        "      f=open('diary.txt','r') #reads the file\n",
        "      for line in f:\n",
        "        striped = line.strip()\n",
        "        print(striped) #prints each striped line from the file\n",
        "\n",
        "  elif choice=='3':\n",
        "    if len(content)>0:\n",
        "      wf=open('diary.txt', 'r')\n",
        "      search = input('Enter the date to search(YYYY-MM-DD): ')\n",
        "      found=False\n",
        "\n",
        "      for entry in wf:\n",
        "        if current_datetime==search: #checking from each line in the file if the input matches anything\n",
        "          print(entry.strip())  #outputing that entry\n",
        "          found=True\n",
        "      if found==False:\n",
        "        print('No entries found for that date.')\n",
        "\n",
        "    else:\n",
        "      print(\"No entries found for that date.\")\n",
        "\n",
        "  elif choice=='4':\n",
        "    print(\"Exiting the diary management tool.\")\n",
        "    break #exiting the while loop\n",
        "  else:\n",
        "    print('Please inpute number 1-4') #for the entries that have no destination within the loop"
      ],
      "metadata": {
        "colab": {
          "base_uri": "https://localhost:8080/"
        },
        "id": "ojuc8G_X39Uf",
        "outputId": "55013251-3512-446c-fec3-fc400cd35ff2"
      },
      "execution_count": 107,
      "outputs": [
        {
          "output_type": "stream",
          "name": "stdout",
          "text": [
            "Add a new diary entry: \n",
            "2024-10-12\n",
            "No diary entries found.\n",
            "\n",
            "1. Add new entry: \n",
            "2. View all entries\n",
            "3. Search for Diary Entries by Date\n",
            "4. Exit\n",
            "Choose an option(1-4): 2\n",
            "No diary entries found.\n",
            "\n",
            "1. Add new entry: \n",
            "2. View all entries\n",
            "3. Search for Diary Entries by Date\n",
            "4. Exit\n",
            "Choose an option(1-4): 1\n",
            "Add a new diary entry: hello\n",
            "2024-10-12\n",
            "lo\n",
            "Diary entry added.\n",
            "\n",
            "1. Add new entry: \n",
            "2. View all entries\n",
            "3. Search for Diary Entries by Date\n",
            "4. Exit\n",
            "Choose an option(1-4): 3\n",
            "Enter the date to search(YYYY-MM-DD): 2024-10-12\n",
            "Date: 2024-10-12\n",
            "Diary entry:\n",
            "Date: 2024-10-12\n",
            "Diary entry: hello\n",
            "\n",
            "1. Add new entry: \n",
            "2. View all entries\n",
            "3. Search for Diary Entries by Date\n",
            "4. Exit\n",
            "Choose an option(1-4): 4\n",
            "Exiting the diary management tool.\n"
          ]
        }
      ]
    },
    {
      "cell_type": "code",
      "source": [],
      "metadata": {
        "id": "mMIZtj7zdejw"
      },
      "execution_count": null,
      "outputs": []
    }
  ]
}