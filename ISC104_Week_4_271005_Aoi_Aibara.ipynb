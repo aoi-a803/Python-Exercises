{
  "cells": [
    {
      "cell_type": "markdown",
      "metadata": {},
      "source": [
        "EX4-1: Print the student's name and score (key and value) pairs for all students, one pair per line.\n",
        "scoredict = {'a':94,'b':62,'c':58,'d':40,'e':80 }"
      ]
    },
    {
      "cell_type": "code",
      "execution_count": null,
      "metadata": {
        "colab": {
          "base_uri": "https://localhost:8080/"
        },
        "id": "SQgbd5dFHdxd",
        "outputId": "15194dd4-1675-41dc-be2f-7e41f3bebd1e"
      },
      "outputs": [
        {
          "name": "stdout",
          "output_type": "stream",
          "text": [
            "a 94\n",
            "b 62\n",
            "c 58\n",
            "d 40\n",
            "e 80\n",
            "a 94\n",
            "b 62\n",
            "c 58\n",
            "d 40\n",
            "e 80\n"
          ]
        }
      ],
      "source": [
        "scoredict = {'a':94,'b':62,'c':58,'d':40,'e':80 }\n",
        "\n",
        "#Exercise 4-1\n",
        "for key in scoredict.keys(): #the first method\n",
        "  print(key, scoredict[key])\n",
        "\n",
        "for key,val in scoredict.items(): #the second method\n",
        "  print(key,val)"
      ]
    },
    {
      "cell_type": "markdown",
      "metadata": {},
      "source": [
        "EX4-2: Print the names and scores of only those students whose scores are less than 60."
      ]
    },
    {
      "cell_type": "code",
      "execution_count": null,
      "metadata": {
        "colab": {
          "base_uri": "https://localhost:8080/"
        },
        "id": "7-y_dpbyH2iI",
        "outputId": "ba57fc91-1c50-4841-d543-3827cb12dd53"
      },
      "outputs": [
        {
          "name": "stdout",
          "output_type": "stream",
          "text": [
            "c 58\n",
            "d 40\n"
          ]
        }
      ],
      "source": [
        "#Exercise 4-2\n",
        "for key in scoredict.keys():\n",
        "  if scoredict[key]<60:\n",
        "    print (key, scoredict[key])\n",
        "#the difference I see from exercise 3-5 is that the extracted code comes in one line.\n",
        "#also, I noticed that you can code it even based on the key instead of using the index as the valuable."
      ]
    },
    {
      "cell_type": "markdown",
      "metadata": {},
      "source": [
        "In addition to scoredict (dictionary of test scores), answer EX4-3, EX4-4 using yeardict (dictionary of each student's graduation year) (may be answered in one program).\n",
        "scoredict = {'a':94,'b':62,'c':58,'d':40,'e':80 }\n",
        "yeardict = {'a':22,'b':22,'c':23,'d':23,'e':24}\n",
        "\n",
        "EX4-3: Find the number of 22year students (answer is 2)."
      ]
    },
    {
      "cell_type": "code",
      "execution_count": null,
      "metadata": {
        "colab": {
          "base_uri": "https://localhost:8080/"
        },
        "id": "s52-IgJ5I80Q",
        "outputId": "9450f0eb-b5a3-4d65-d0f6-5e5fd768162a"
      },
      "outputs": [
        {
          "name": "stdout",
          "output_type": "stream",
          "text": [
            "2\n"
          ]
        }
      ],
      "source": [
        "scoredict = {'a':94,'b':62,'c':58,'d':40,'e':80 }\n",
        "yeardict = {'a':22,'b':22,'c':23,'d':23,'e':24}\n",
        "\n",
        "#Exercise 4-3\n",
        "count = 0\n",
        "for year in yeardict.values():\n",
        "  if year == 22: #regulates the program to only add the number of values that are equal to 22\n",
        "    count+=1\n",
        "print (count)"
      ]
    },
    {
      "cell_type": "markdown",
      "metadata": {},
      "source": [
        "EX4-4 (a):\n",
        "Find the average score of the 22year students (answer is 78.0)."
      ]
    },
    {
      "cell_type": "code",
      "execution_count": null,
      "metadata": {
        "colab": {
          "base_uri": "https://localhost:8080/"
        },
        "id": "6iZMEYJ2Kj1f",
        "outputId": "71b8a78d-0653-4784-e589-ce767e2e6dd2"
      },
      "outputs": [
        {
          "name": "stdout",
          "output_type": "stream",
          "text": [
            "The average is  78.0\n"
          ]
        }
      ],
      "source": [
        "#Exercise 4-4\n",
        "scoredict = {'a':94,'b':62,'c':58,'d':40,'e':80 }\n",
        "yeardict = {'a':22,'b':22,'c':23,'d':23,'e':24}\n",
        "\n",
        "#a\n",
        "count=0\n",
        "sum=0\n",
        "for key,val in yeardict.items():\n",
        "  if val == 22: #regulates the program to only add the number of values that are equal to 22\n",
        "    count+=1\n",
        "    sum += scoredict[key] #sums the two test scores of the students\n",
        "print('The average is ', sum/count)"
      ]
    },
    {
      "cell_type": "markdown",
      "metadata": {},
      "source": [
        "EX4-4 (b):\n",
        "Find the average score for each graduation year. However, assume the year of graduation that appears in the dictionary is unknown\n",
        "(i.e. conditional expressions such as if yeardict[key] == 22 cannot be used)."
      ]
    },
    {
      "cell_type": "code",
      "execution_count": 169,
      "metadata": {
        "colab": {
          "base_uri": "https://localhost:8080/"
        },
        "id": "epSW9rqVLVoz",
        "outputId": "469b46d2-c110-4c1d-b625-cd019f427be5"
      },
      "outputs": [
        {
          "name": "stdout",
          "output_type": "stream",
          "text": [
            "scores grouped by graduation year: {22: [94, 62], 23: [58, 40], 24: [80]}\n",
            "the average scores by graduation year: {22: 78.0, 23: 49.0, 24: 80.0}\n"
          ]
        }
      ],
      "source": [
        "#Exercise 4-4 b\n",
        "\n",
        "year_group={}\n",
        "for key, val in scoredict.items():\n",
        "  year = yeardict[key]\n",
        "  if year not in year_group: #creating a list grouped by their graduation year\n",
        "    year_group[year]=[]\n",
        "  year_group[year].append(val)\n",
        "print('scores grouped by graduation year:', year_group) #the whole grouping is from Exercise 4-10\n",
        "\n",
        "average = {}\n",
        "for key, val in year_group.items(): #another grouping within the separation of graduation year\n",
        "  total=0\n",
        "  count=0\n",
        "  for s in val: #sums up the values within one grouping\n",
        "    total += s\n",
        "    count +=1\n",
        "  average[key]=total/count\n",
        "print('the average scores by graduation year:', average)"
      ]
    },
    {
      "cell_type": "markdown",
      "metadata": {},
      "source": [
        "Practice Question: For the following dictionary with key: menu, value: calories (kcal), print all menus and calories one line at a time."
      ]
    },
    {
      "cell_type": "code",
      "execution_count": null,
      "metadata": {
        "colab": {
          "base_uri": "https://localhost:8080/"
        },
        "id": "OSqwgUsCSaMK",
        "outputId": "03f915f8-0f58-42b3-f535-4878f36b0903"
      },
      "outputs": [
        {
          "name": "stdout",
          "output_type": "stream",
          "text": [
            "udon 300 calories\n",
            "salad 150 calories\n",
            "gyudon 500 calories\n",
            "pasta 450 calories\n"
          ]
        }
      ],
      "source": [
        "#practice\n",
        "kcaldict = {'udon':300, 'salad':150, 'gyudon':500, 'pasta':450}\n",
        "for key in kcaldict.keys(): #following the method in exercise 4-1\n",
        "  print(key, kcaldict[key],'calories')"
      ]
    },
    {
      "cell_type": "markdown",
      "metadata": {},
      "source": [
        "EX4-5: Create and run a program that prints the menu and calorie of the menu with the highest calorie."
      ]
    },
    {
      "cell_type": "code",
      "execution_count": null,
      "metadata": {
        "colab": {
          "base_uri": "https://localhost:8080/"
        },
        "id": "4kccgH9lUHCJ",
        "outputId": "919e462a-4411-46bf-97c9-c26e43c7c95a"
      },
      "outputs": [
        {
          "name": "stdout",
          "output_type": "stream",
          "text": [
            "the food with the most calory is gyudon with 500  calories\n"
          ]
        }
      ],
      "source": [
        "#Exercise 4-5\n",
        "tmpmax=0\n",
        "menu=\"\"\n",
        "kcaldict = {'udon':300, 'salad':150, 'gyudon':500, 'pasta':450}\n",
        "for key, val in kcaldict.items():\n",
        "  if val>tmpmax: #trying to find the maximum of the value\n",
        "    tmpmax = val\n",
        "    menu=key #trying to define the key that corresponds to the maximum value\n",
        "print('the food with the most calory is', menu, 'with', tmpmax, ' calories')"
      ]
    },
    {
      "cell_type": "markdown",
      "metadata": {},
      "source": [
        "Practice Question: Print all menus, prices and calories one line at a time for pricedict: dictionary with key: menu, value: price (yen), and kcaldict. Note that the order of keys in pricedict is different from that of kcaldict."
      ]
    },
    {
      "cell_type": "code",
      "execution_count": null,
      "metadata": {
        "colab": {
          "base_uri": "https://localhost:8080/"
        },
        "id": "6RZJ8HYRVCB7",
        "outputId": "944e24cb-11f0-4dd3-cd93-e0e64dfed2f1"
      },
      "outputs": [
        {
          "name": "stdout",
          "output_type": "stream",
          "text": [
            "udon 200 yen\n",
            "salad 150 yen\n",
            "gyudon 450 yen\n",
            "pasta 350 yen\n"
          ]
        }
      ],
      "source": [
        "#practice\n",
        "pricedict = {'udon':200,'gyudon':450, 'salad':150, 'pasta':350 }\n",
        "result = kcaldict.copy()\n",
        "for key in result:\n",
        "  result[key] = pricedict[key] #trying to redefine the key\n",
        "  pricedict_2 = pricedict\n",
        "  print(key, pricedict_2[key],'yen')"
      ]
    },
    {
      "cell_type": "markdown",
      "metadata": {},
      "source": [
        "EX4-6: Create and run a program to print the menu and calories per yen for the menu with the maximum calories per yen."
      ]
    },
    {
      "cell_type": "code",
      "execution_count": null,
      "metadata": {
        "colab": {
          "base_uri": "https://localhost:8080/"
        },
        "id": "MkUQE5B2XKzs",
        "outputId": "5f401f8c-bef2-484b-c1f5-211dc88d6858"
      },
      "outputs": [
        {
          "name": "stdout",
          "output_type": "stream",
          "text": [
            "The menue with the most calories per yen is udon which is 1.5 calories/yen\n"
          ]
        }
      ],
      "source": [
        "#Exercise 4-6\n",
        "tmpmax=0\n",
        "menu=\"\"\n",
        "kcaldict = {'udon':300, 'salad':150, 'gyudon':500, 'pasta':450}\n",
        "pricedict = {'udon':200,'gyudon':450, 'salad':150, 'pasta':350}\n",
        "result = kcaldict.copy()\n",
        "for key in result: #matching the keys of the each dictionary\n",
        "  result[key] = pricedict[key] #reassigning the keys to the copied dictionary\n",
        "\n",
        "for key in kcaldict.keys(): #calculating the maximum value of calories/yen\n",
        "  if (kcaldict[key]/result[key])>tmpmax:\n",
        "    tmpmax=(kcaldict[key]/result[key])\n",
        "    menu=key\n",
        "print('The menue with the most calories per yen is',menu, 'which is', tmpmax,'calories/yen')"
      ]
    },
    {
      "cell_type": "markdown",
      "metadata": {},
      "source": [
        "EX4-7: Create and run a program that prints the menu item, calories and price of the menu item that is priced under 400 yen and have the maximum number of calories."
      ]
    },
    {
      "cell_type": "code",
      "execution_count": null,
      "metadata": {
        "colab": {
          "base_uri": "https://localhost:8080/"
        },
        "id": "_oOMnw3KYRp5",
        "outputId": "a0df5b78-c516-416c-977e-d06eba2196ae"
      },
      "outputs": [
        {
          "name": "stdout",
          "output_type": "stream",
          "text": [
            "udon calories= 300 price= 200\n",
            "salad calories= 150 price= 150\n",
            "pasta calories= 450 price= 350\n",
            "the menu with the most calories under 400 yen is pasta ( calories= 450 )\n"
          ]
        }
      ],
      "source": [
        "#Exercise 4-7\n",
        "tmpmax=0\n",
        "menu=\"\"\n",
        "kcaldict = {'udon':300, 'salad':150, 'gyudon':500, 'pasta':450}\n",
        "pricedict = {'udon':200,'gyudon':450, 'salad':150, 'pasta':350}\n",
        "result = kcaldict.copy()\n",
        "for key in result: #matching the keys of the each dictionary\n",
        "  result[key] = pricedict[key] #reassigning the keys to the copied dictionary\n",
        "\n",
        "for key in kcaldict.keys():\n",
        "  if result[key]<400: #limiting the consideration to under 400 yen\n",
        "    print(key, 'calories=', kcaldict[key], 'price=', result[key])\n",
        "    for i in kcaldict.keys(): #to extract the maximum within the limitation\n",
        "      if kcaldict[key]>tmpmax:\n",
        "        tmpmax=kcaldict[key]\n",
        "        menu=key\n",
        "print('the menu with the most calories under 400 yen is', menu, '( calories=', kcaldict[key],')')"
      ]
    },
    {
      "cell_type": "markdown",
      "metadata": {},
      "source": [
        "EX4-8: Generate a list of prices and a list of calories for each menu item, and create a scatter plot with markers plotted as x-axis for price and y-axis for calories for each menu item."
      ]
    },
    {
      "cell_type": "code",
      "execution_count": null,
      "metadata": {
        "colab": {
          "base_uri": "https://localhost:8080/",
          "height": 466
        },
        "id": "5y8Si1bjeNIW",
        "outputId": "a874b7ee-8169-40db-d575-f1aa2ed0e54c"
      },
      "outputs": [
        {
          "name": "stdout",
          "output_type": "stream",
          "text": [
            "[300, 150, 500, 450]\n",
            "[200, 150, 450, 350]\n"
          ]
        },
        {
          "data": {
            "image/png": "[encoded data removed]",
            "text/plain": [
              "<Figure size 640x480 with 1 Axes>"
            ]
          },
          "metadata": {},
          "output_type": "display_data"
        }
      ],
      "source": [
        "#Exercise 4-8\n",
        "import matplotlib.pyplot as plt\n",
        "import random\n",
        "kcaldict = {'udon':300, 'salad':150, 'gyudon':500, 'pasta':450}\n",
        "pricedict = {'udon':200,'gyudon':450, 'salad':150, 'pasta':350}\n",
        "kcallist=[]\n",
        "pricelist=[]\n",
        "\n",
        "result = kcaldict.copy()\n",
        "for key in result: #matching the keys of the each dictionary\n",
        "  result[key] = pricedict[key]\n",
        "\n",
        "for key in kcaldict.keys():\n",
        "  kcallist.append(kcaldict[key])\n",
        "print('the list of calories are', kcallist) #assign the list of calories to plot in the graph\n",
        "\n",
        "for key in result.keys():\n",
        "  pricelist.append(result[key])\n",
        "print('the list of prices are', pricelist) #assign the list of prices to plot in the graph\n",
        "\n",
        "plt.scatter(pricelist, kcallist)\n",
        "plt.show()"
      ]
    },
    {
      "cell_type": "markdown",
      "metadata": {},
      "source": [
        "The program on the right finds the average number of dice rolled 10 times. Repeat lines 3-6 on the right 10000 times and produce a list of averages (length 10000).\n",
        "\n",
        "EX4-9:\n",
        "Plot a line graph of the list of averages.\n",
        "• x-axis: number of trials (0-9999)\n",
        "• y-axis: average per trial (around 3.5)\n",
        "Plot a histogram of the list of averages.\n",
        "• x-axis: average per trial（around 3.5)\n",
        "• y-axis: frequency of the mean\n",
        "It looks better if bins=100."
      ]
    },
    {
      "cell_type": "code",
      "execution_count": null,
      "metadata": {
        "colab": {
          "base_uri": "https://localhost:8080/",
          "height": 609
        },
        "id": "4DdcWMVQggaD",
        "outputId": "a526c00d-6223-4e9c-f0ac-6f2c6f4f7dce"
      },
      "outputs": [
        {
          "name": "stdout",
          "output_type": "stream",
          "text": [
            "3.2\n",
            "3.5\n",
            "4.0\n",
            "5.0\n",
            "4.5\n",
            "3.3\n",
            "3.5\n",
            "3.4\n",
            "3.6\n",
            "3.0\n"
          ]
        },
        {
          "data": {
            "image/png": "[encoded data removed]",
            "text/plain": [
              "<Figure size 640x480 with 1 Axes>"
            ]
          },
          "metadata": {},
          "output_type": "display_data"
        }
      ],
      "source": [
        "#Exercise 4-9 line graph\n",
        "#to ease to see how the graph is properlly designed\n",
        "import random\n",
        "import matplotlib.pyplot as plt\n",
        "import random\n",
        "\n",
        "numroll = 10\n",
        "sumval = 0\n",
        "count = 0\n",
        "xlist=[]\n",
        "ylist=[]\n",
        "\n",
        "for __ in range (10):\n",
        "  mean=0\n",
        "  sumval=0\n",
        "  for _ in range(numroll):\n",
        "    sumval += random.randint(1,6)\n",
        "    mean = sumval/numroll\n",
        "  print(mean)\n",
        "  count+=1 #counting the number of trials here for the x-axis\n",
        "  xlist.append(count)\n",
        "  ylist.append(mean) #adding to the list of y-axis\n",
        "\n",
        "plt.plot(xlist,ylist,marker='o')\n",
        "plt.show()"
      ]
    },
    {
      "cell_type": "code",
      "execution_count": 171,
      "metadata": {
        "colab": {
          "base_uri": "https://localhost:8080/",
          "height": 430
        },
        "id": "yNUbIl_vljts",
        "outputId": "727c22ac-c060-430e-b2f5-ab610f731c8c"
      },
      "outputs": [
        {
          "data": {
            "image/png": "[encoded data removed]",
            "text/plain": [
              "<Figure size 640x480 with 1 Axes>"
            ]
          },
          "metadata": {},
          "output_type": "display_data"
        }
      ],
      "source": [
        "#Exercise 4-9 line graph\n",
        "import random\n",
        "import matplotlib.pyplot as plt\n",
        "import random\n",
        "\n",
        "numroll = 10\n",
        "sumval = 0\n",
        "count = 0\n",
        "xlist=[]\n",
        "ylist=[]\n",
        "\n",
        "for __ in range (10000): #repeating for 10000 times\n",
        "  mean=0\n",
        "  sumval=0\n",
        "  for _ in range(numroll):\n",
        "    sumval += random.randint(1,6)\n",
        "    mean = sumval/numroll\n",
        "  count+=1\n",
        "  xlist.append(count) #the list of number of trials\n",
        "  ylist.append(mean) #the list of the number in each trial\n",
        "\n",
        "plt.plot(xlist,ylist,marker='o')\n",
        "plt.show()"
      ]
    },
    {
      "cell_type": "code",
      "execution_count": null,
      "metadata": {
        "colab": {
          "base_uri": "https://localhost:8080/",
          "height": 609
        },
        "id": "PesRAtcrlhVG",
        "outputId": "c7830f54-f4d7-4581-d971-0b481eab05cb"
      },
      "outputs": [
        {
          "name": "stdout",
          "output_type": "stream",
          "text": [
            "2.9\n",
            "4.8\n",
            "3.5\n",
            "4.4\n",
            "2.2\n",
            "2.1\n",
            "3.3\n",
            "3.3\n",
            "3.7\n",
            "3.3\n"
          ]
        },
        {
          "data": {
            "image/png": "[encoded data removed]",
            "text/plain": [
              "<Figure size 640x480 with 1 Axes>"
            ]
          },
          "metadata": {},
          "output_type": "display_data"
        }
      ],
      "source": [
        "#Exercise 4-9 histogram\n",
        "#firstly for 10 times to ease to see if the graph works properlly\n",
        "import random\n",
        "import matplotlib.pyplot as plt\n",
        "import random\n",
        "\n",
        "numroll = 10\n",
        "sumval = 0\n",
        "count = 0\n",
        "xlist=[]\n",
        "ylist=[]\n",
        "x0list=[]\n",
        "for __ in range (10): #repeating for 10 times\n",
        "  mean=0\n",
        "  sumval=0\n",
        "  for _ in range(numroll):\n",
        "    sumval += random.randint(1,6)\n",
        "    mean = sumval/numroll\n",
        "  print(mean)\n",
        "  count+=1\n",
        "  ylist.append(count) #the list of number of trials\n",
        "  xlist.append(mean)\n",
        "#there doesn't seem to be the need to set the number for the y-axis, it automatically counts the frequency\n",
        "\n",
        "plt.hist(xlist) #the command for histogram\n",
        "plt.show()\n"
      ]
    },
    {
      "cell_type": "code",
      "execution_count": 170,
      "metadata": {
        "colab": {
          "base_uri": "https://localhost:8080/",
          "height": 430
        },
        "id": "k-w99Rv6nE3s",
        "outputId": "2c09a6e9-e6d9-476a-b226-66f42a8cfe24"
      },
      "outputs": [
        {
          "data": {
            "image/png": "[encoded data removed]",
            "text/plain": [
              "<Figure size 640x480 with 1 Axes>"
            ]
          },
          "metadata": {},
          "output_type": "display_data"
        }
      ],
      "source": [
        "#Exercise 4-9 histogram\n",
        "import random\n",
        "import matplotlib.pyplot as plt\n",
        "import random\n",
        "\n",
        "numroll = 10\n",
        "sumval = 0\n",
        "count = 0\n",
        "xlist=[]\n",
        "ylist=[]\n",
        "x0list=[]\n",
        "for __ in range (10000): #repeating for 10000 times\n",
        "  mean=0\n",
        "  sumval=0\n",
        "  for _ in range(numroll):\n",
        "    sumval += random.randint(1,6)\n",
        "    mean = sumval/numroll\n",
        "  count+=1\n",
        "  ylist.append(count) #the list of number of trials\n",
        "  xlist.append(mean)\n",
        "#there doesn't seem to be the need to set the number for the y-axis, it automatically counts the frequency\n",
        "\n",
        "plt.hist(xlist) #the command for histogram\n",
        "plt.show()"
      ]
    },
    {
      "cell_type": "markdown",
      "metadata": {},
      "source": [
        "EX4-10: Create a program that group words by their length. Given a list of words, group the words by their length. The result should be a dictionary where the keys are the word lengths, and the values are lists of words with that length.\n",
        "input: words = [\"illusion\", \"spicy\", \"armageddon\", \"supernova\", \"drama\", \"hot mess\"]\n",
        "output: {8: ['illusion', 'hot mess'], 5: ['spicy', 'drama'], 10: ['armageddon'], 9: ['supernova']}"
      ]
    },
    {
      "cell_type": "code",
      "execution_count": null,
      "metadata": {
        "colab": {
          "base_uri": "https://localhost:8080/"
        },
        "id": "fhJd36OlpMYu",
        "outputId": "ba833473-4b5b-48a4-de50-7fd67fd3100f"
      },
      "outputs": [
        {
          "name": "stdout",
          "output_type": "stream",
          "text": [
            "{8: ['illusion', 'hot mess'], 5: ['spicy', 'drama'], 10: ['armageddon'], 9: ['supernova']}\n"
          ]
        }
      ],
      "source": [
        "#Exercise 4-10\n",
        "import itertools\n",
        "\n",
        "words = [\"illusion\", \"spicy\", \"armageddon\", \"supernova\", \"drama\", \"hot mess\"]\n",
        "grouped={}\n",
        "for w in words:\n",
        "  length=len(w)\n",
        "  if length not in grouped:\n",
        "    grouped[length]=[]  #I looked up how to group elements\n",
        "  grouped[length].append(w) #group the elements based on its length\n",
        "print(grouped)"
      ]
    }
  ],
  "metadata": {
    "colab": {
      "provenance": []
    },
    "kernelspec": {
      "display_name": "Python 3",
      "name": "python3"
    },
    "language_info": {
      "name": "python"
    }
  },
  "nbformat": 4,
  "nbformat_minor": 0
}
