{
  "nbformat": 4,
  "nbformat_minor": 0,
  "metadata": {
    "colab": {
      "provenance": []
    },
    "kernelspec": {
      "name": "python3",
      "display_name": "Python 3"
    },
    "language_info": {
      "name": "python"
    }
  },
  "cells": [
    {
      "cell_type": "code",
      "execution_count": 4,
      "metadata": {
        "colab": {
          "base_uri": "https://localhost:8080/",
          "height": 0
        },
        "id": "kILc1kccFnah",
        "outputId": "133de42a-3a9d-45b8-e7f2-74b75ebd9415"
      },
      "outputs": [
        {
          "output_type": "stream",
          "name": "stdout",
          "text": [
            "164 cm\n",
            "1.64 m\n"
          ]
        }
      ],
      "source": [
        "#Exercise 1-1\n",
        "#adding the units to the valuable x\n",
        "x=164\n",
        "print(x,'cm')\n",
        "#the value x changes here\n",
        "x=1.64\n",
        "print(x,'m')"
      ]
    },
    {
      "cell_type": "code",
      "source": [
        "#Exercise 1-2\n",
        "x=164\n",
        "#below is to filter the valuable x whether it should be shown as \"L\" or \"Not L\"\n",
        "if (x>170):\n",
        "  print(\"L\")\n",
        "else:\n",
        "  print(\"Not L\")"
      ],
      "metadata": {
        "colab": {
          "base_uri": "https://localhost:8080/",
          "height": 0
        },
        "id": "Zjbu1cm_F3Zp",
        "outputId": "7d9998f3-5872-487a-ac90-30a1ec0ac573"
      },
      "execution_count": 5,
      "outputs": [
        {
          "output_type": "stream",
          "name": "stdout",
          "text": [
            "Not L\n"
          ]
        }
      ]
    },
    {
      "cell_type": "code",
      "source": [
        "#Exercise 1-3\n",
        "PAY=32\n",
        "tencoin=10\n",
        "onecoin=1\n",
        "#below is to determine the remain of the valuable PAY\n",
        "total=PAY//tencoin\n",
        "print('tencoins is:',total)\n",
        "#the remain of the PAY%tencoin refers to what the onecoin can deal with\n",
        "PAY%tencoin\n",
        "print('one coin is', PAY%tencoin)\n",
        "#paying 32yen with as much ten-yen coins as possible"
      ],
      "metadata": {
        "colab": {
          "base_uri": "https://localhost:8080/",
          "height": 0
        },
        "id": "iStI4gLtGsZr",
        "outputId": "5ed64534-c3ec-4ea8-94b3-c8dc3982eb00"
      },
      "execution_count": 10,
      "outputs": [
        {
          "output_type": "stream",
          "name": "stdout",
          "text": [
            "tencoins is: 3\n",
            "one coin is 2\n"
          ]
        }
      ]
    },
    {
      "cell_type": "code",
      "source": [
        "#Exercise 1-4\n",
        "PAY=input(\"How much are we paying?\")\n",
        "#converting the string PAY into an integer number to enable calculation\n",
        "PAY=int(PAY)\n",
        "tencoin=10\n",
        "onecoin=1\n",
        "total=PAY//tencoin\n",
        "print('tencoins is:',total)\n",
        "PAY%tencoin\n",
        "print('one coin is', PAY%tencoin)\n",
        "#paying as much as possible in ten-yen coins"
      ],
      "metadata": {
        "colab": {
          "base_uri": "https://localhost:8080/",
          "height": 0
        },
        "id": "a6kjo8E3HV_o",
        "outputId": "2bb85809-afe6-42ae-f38b-88e88fe58dc4"
      },
      "execution_count": 12,
      "outputs": [
        {
          "output_type": "stream",
          "name": "stdout",
          "text": [
            "How much are we paying?42\n",
            "tencoins is: 4\n",
            "one coin is 2\n"
          ]
        }
      ]
    },
    {
      "cell_type": "code",
      "source": [
        "#Exercise 1-5\n",
        "strsec=input(\"Input a number:\")\n",
        "strsec=int(strsec)\n",
        "#below is to restrict the range of the number inserted\n",
        "#in order words, the maximum number of seconds that does not exceed days\n",
        "if (strsec>86399):\n",
        "  print(\"error\")\n",
        "else:\n",
        "#hours can be divided by 3600 without the remains\n",
        "  hours=strsec//3600\n",
        "#mintues are further divided by 60 with the remains\n",
        "  mins=(strsec%3600)//60\n",
        "#seconds are the remains of the minutes and hours\n",
        "  sec=(strsec%3600)%60\n",
        "  print(strsec, \"is:\", hours, \"hours\", mins, \"minutes\", sec, \"seconds\")"
      ],
      "metadata": {
        "colab": {
          "base_uri": "https://localhost:8080/",
          "height": 0
        },
        "id": "CbEmbw6DI-Ac",
        "outputId": "7289abea-881b-4ced-c32e-f9bc306edd79"
      },
      "execution_count": 19,
      "outputs": [
        {
          "output_type": "stream",
          "name": "stdout",
          "text": [
            "Input a number:3671\n",
            "3671 is: 1 hours 1 minutes 11 seconds\n"
          ]
        }
      ]
    },
    {
      "cell_type": "code",
      "source": [
        "#Exercise 1-6\n",
        "password=\"akds\"\n",
        "string=input(\"insert password:\")\n",
        "#here lignes the divergence of whether the valuable match each other or not\n",
        "if(string==password):\n",
        "  print(\"pass\")\n",
        "else:\n",
        "  print(\"fail\")"
      ],
      "metadata": {
        "colab": {
          "base_uri": "https://localhost:8080/",
          "height": 0
        },
        "id": "hAtKicXaKqxJ",
        "outputId": "74321b39-2888-4bb7-9d0d-3327b6d8f002"
      },
      "execution_count": 23,
      "outputs": [
        {
          "output_type": "stream",
          "name": "stdout",
          "text": [
            "insert password:aldf\n",
            "fail\n"
          ]
        }
      ]
    },
    {
      "cell_type": "code",
      "source": [
        "#Exercise 1-6 b\n",
        "#the password is \"fail\"\n",
        "password=\"fail\"\n",
        "string=input(\"insert password:\")\n",
        "if(string==password):\n",
        "  print(\"pass\")\n",
        "else:\n",
        "  print(\"fail\")"
      ],
      "metadata": {
        "colab": {
          "base_uri": "https://localhost:8080/",
          "height": 0
        },
        "id": "iSY9Qh8PNVum",
        "outputId": "f2c38eb7-729e-474d-87d0-8f09f46ee312"
      },
      "execution_count": 24,
      "outputs": [
        {
          "output_type": "stream",
          "name": "stdout",
          "text": [
            "insert password:fail\n",
            "pass\n"
          ]
        }
      ]
    },
    {
      "cell_type": "code",
      "source": [
        "#Exercise 1-7\n",
        "password=input(\"Set a password: \")\n",
        "#below determines that the password is composed of 4 or longer letters\n",
        "if (len(password)<4):\n",
        "  print(\"enter longer password\")\n",
        "else:\n",
        "  print(\"password set\")"
      ],
      "metadata": {
        "colab": {
          "base_uri": "https://localhost:8080/",
          "height": 0
        },
        "id": "Jqv6ioTMNoRI",
        "outputId": "deddf01d-382c-4354-b662-e16778e790d8"
      },
      "execution_count": 26,
      "outputs": [
        {
          "output_type": "stream",
          "name": "stdout",
          "text": [
            "Insert a password: kdl\n",
            "enter longer password\n"
          ]
        }
      ]
    },
    {
      "cell_type": "code",
      "source": [
        "#Exercise 1-7 latter case\n",
        "password=input(\"set a password: \")\n",
        "if (len(password)<4):\n",
        "  print(\"enter longer password\")\n",
        "else:\n",
        "  print(\"password set\")\n",
        "#below makes it clear that the latter instruction can only be run if the\n",
        "#password is eligible\n",
        "if len(password)>=4:\n",
        "  x = input(\"Enter password: \")\n",
        "  if (password==x):\n",
        "    print(\"pass\")\n",
        "  else:\n",
        "    print(\"fail\")"
      ],
      "metadata": {
        "colab": {
          "base_uri": "https://localhost:8080/",
          "height": 0
        },
        "id": "RYfLMJmhOKOt",
        "outputId": "c34a5df1-6593-4a37-f7dd-275e462611ff"
      },
      "execution_count": 38,
      "outputs": [
        {
          "output_type": "stream",
          "name": "stdout",
          "text": [
            "set a password: asdf\n",
            "password set\n",
            "Enter password: awer\n",
            "fail\n"
          ]
        }
      ]
    },
    {
      "cell_type": "code",
      "source": [
        "#Exercise 1-8\n",
        "counter=0\n",
        "x=1\n",
        "if x%3==0:\n",
        "  counter=counter+1\n",
        "\n",
        "#below is the repetition of the above\n",
        "x=2\n",
        "if x%3==0:\n",
        "  counter=counter+1\n",
        "x=3\n",
        "if x%3==0:\n",
        "  counter=counter+1\n",
        "\n",
        "x=4\n",
        "if x%3==0:\n",
        "  counter=counter+1\n",
        "\n",
        "x=5\n",
        "if x%3==0:\n",
        "  counter=counter+1\n",
        "\n",
        "x=6\n",
        "if x%3==0:\n",
        "  counter=counter+1\n",
        "\n",
        "x=7\n",
        "if x%3==0:\n",
        "  counter=counter+1\n",
        "\n",
        "x=8\n",
        "if x%3==0:\n",
        "  counter=counter+1\n",
        "\n",
        "x=9\n",
        "if x%3==0:\n",
        "  counter=counter+1\n",
        "\n",
        "x=10\n",
        "if x%3==0:\n",
        "  counter=counter+1\n",
        "print(counter)\n",
        "\n"
      ],
      "metadata": {
        "colab": {
          "base_uri": "https://localhost:8080/",
          "height": 0
        },
        "id": "s14qj8ojOquk",
        "outputId": "7cd041e6-340d-427a-a872-63285b92bb00"
      },
      "execution_count": 57,
      "outputs": [
        {
          "output_type": "stream",
          "name": "stdout",
          "text": [
            "3\n"
          ]
        }
      ]
    },
    {
      "cell_type": "code",
      "source": [
        "#Exercise 1-9\n",
        "year=input(\"What year?\")\n",
        "year=int(year)\n",
        "if year%3!=0:\n",
        "#to eliminate the possibility of 2100 becoming 'leap year'\n",
        "  if year%4==0 or year%400==0:\n",
        "    print('leap')\n",
        "  elif year%100!=0 and year%4!=0:\n",
        "    print('not leap')\n",
        "else:\n",
        "  print('not leap')"
      ],
      "metadata": {
        "colab": {
          "base_uri": "https://localhost:8080/",
          "height": 0
        },
        "id": "q3guGzt9QygN",
        "outputId": "59f7d6bb-203c-45a2-f578-257917319ac1"
      },
      "execution_count": 112,
      "outputs": [
        {
          "output_type": "stream",
          "name": "stdout",
          "text": [
            "What year?2019\n",
            "not leap\n"
          ]
        }
      ]
    }
  ]
}