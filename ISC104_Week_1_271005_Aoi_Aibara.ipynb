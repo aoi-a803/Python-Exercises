{
  "cells": [
    {
      "cell_type": "markdown",
      "metadata": {},
      "source": [
        "EX1-1: Assign your height in cm to the variable x (in the program) and print the variable x. Also, print the value of your height converted to meter"
      ]
    },
    {
      "cell_type": "code",
      "execution_count": 4,
      "metadata": {
        "colab": {
          "base_uri": "https://localhost:8080/",
          "height": 0
        },
        "id": "kILc1kccFnah",
        "outputId": "133de42a-3a9d-45b8-e7f2-74b75ebd9415"
      },
      "outputs": [
        {
          "name": "stdout",
          "output_type": "stream",
          "text": [
            "164 cm\n",
            "1.64 m\n"
          ]
        }
      ],
      "source": [
        "#Exercise 1-1\n",
        "#adding the units to the valuable x\n",
        "x=164\n",
        "print(x,'cm')\n",
        "#the value x changes here\n",
        "x=1.64\n",
        "print(x,'m')"
      ]
    },
    {
      "cell_type": "markdown",
      "metadata": {},
      "source": [
        "EX1-2: Substitute your height in cm for the variable x and write \"L\" if your height is over 170, otherwise write \"not L\"."
      ]
    },
    {
      "cell_type": "code",
      "execution_count": 5,
      "metadata": {
        "colab": {
          "base_uri": "https://localhost:8080/",
          "height": 0
        },
        "id": "Zjbu1cm_F3Zp",
        "outputId": "7d9998f3-5872-487a-ac90-30a1ec0ac573"
      },
      "outputs": [
        {
          "name": "stdout",
          "output_type": "stream",
          "text": [
            "Not L\n"
          ]
        }
      ],
      "source": [
        "#Exercise 1-2\n",
        "x=164\n",
        "#below is to filter the valuable x whether it should be shown as \"L\" or \"Not L\"\n",
        "if (x>170):\n",
        "  print(\"L\")\n",
        "else:\n",
        "  print(\"Not L\")"
      ]
    },
    {
      "cell_type": "markdown",
      "metadata": {},
      "source": [
        "EX1-3 : Calculate and print the number of 10-yen and 1-yen coins needed to pay 32 yen at the cash register.\n",
        "• Substitute the 32 yen payment amount into the variable PAY with PAY=32, and use the variable tencoin to calculate the number of 10 yen coins and the variable onecoin to calculate the number of 1 yen coins.\n",
        "• You need to answer if you are paying as much as possible in 10-yen coins (e.g., if you are paying for everything in 1-yen coins, etc.)."
      ]
    },
    {
      "cell_type": "code",
      "execution_count": 10,
      "metadata": {
        "colab": {
          "base_uri": "https://localhost:8080/",
          "height": 0
        },
        "id": "iStI4gLtGsZr",
        "outputId": "5ed64534-c3ec-4ea8-94b3-c8dc3982eb00"
      },
      "outputs": [
        {
          "name": "stdout",
          "output_type": "stream",
          "text": [
            "tencoins is: 3\n",
            "one coin is 2\n"
          ]
        }
      ],
      "source": [
        "#Exercise 1-3\n",
        "PAY=32\n",
        "tencoin=10\n",
        "onecoin=1\n",
        "#below is to determine the remain of the valuable PAY\n",
        "total=PAY//tencoin\n",
        "print('tencoins is:',total)\n",
        "#the remain of the PAY%tencoin refers to what the onecoin can deal with\n",
        "PAY%tencoin\n",
        "print('one coin is', PAY%tencoin)\n",
        "#paying 32yen with as much ten-yen coins as possible"
      ]
    },
    {
      "cell_type": "markdown",
      "metadata": {},
      "source": [
        "EX1-4: Modify EX1-3 to allow keyboard input instead of fixing the payment amount at 32 yen, and create a program that prints the number of 10 yen and 1 yen coins needed to pay that payment amount.\n",
        "• Verify that the correct output is obtained by entering 99 yen, 45 yen, etc. from the keyboard."
      ]
    },
    {
      "cell_type": "code",
      "execution_count": 12,
      "metadata": {
        "colab": {
          "base_uri": "https://localhost:8080/",
          "height": 0
        },
        "id": "a6kjo8E3HV_o",
        "outputId": "2bb85809-afe6-42ae-f38b-88e88fe58dc4"
      },
      "outputs": [
        {
          "name": "stdout",
          "output_type": "stream",
          "text": [
            "How much are we paying?42\n",
            "tencoins is: 4\n",
            "one coin is 2\n"
          ]
        }
      ],
      "source": [
        "#Exercise 1-4\n",
        "PAY=input(\"How much are we paying?\")\n",
        "#converting the string PAY into an integer number to enable calculation\n",
        "PAY=int(PAY)\n",
        "tencoin=10\n",
        "onecoin=1\n",
        "total=PAY//tencoin\n",
        "print('tencoins is:',total)\n",
        "PAY%tencoin\n",
        "print('one coin is', PAY%tencoin)\n",
        "#paying as much as possible in ten-yen coins"
      ]
    },
    {
      "cell_type": "markdown",
      "metadata": {},
      "source": [
        "EX1-5: Create a program that has the user input a number from 0 to 86399 from the keyboard, converts the number to h hours, m minutes, and s seconds, and\n",
        "outputs h, m, and s.\n",
        "Procedure:\n",
        "• Receive keyboard input with input() and make it into a variable (e.g. strsec).\n",
        "• The integer value of intsec divided by 3600 is time (h). Calculate m and s below.\n",
        "Note:\n",
        "• h, m, and s must be answered as integers from 0 to 23, 0 to 59, respectively.\n",
        "• Use int() to convert decimal points to integers (or round())\n",
        "• Input in 10,70,3671,86399 into the program and verify that you are getting the correct output.\n",
        "• Even if you cannot calculate all of h, m, and s, partial points will be given if you can do any of them."
      ]
    },
    {
      "cell_type": "code",
      "execution_count": 19,
      "metadata": {
        "colab": {
          "base_uri": "https://localhost:8080/",
          "height": 0
        },
        "id": "CbEmbw6DI-Ac",
        "outputId": "7289abea-881b-4ced-c32e-f9bc306edd79"
      },
      "outputs": [
        {
          "name": "stdout",
          "output_type": "stream",
          "text": [
            "Input a number:3671\n",
            "3671 is: 1 hours 1 minutes 11 seconds\n"
          ]
        }
      ],
      "source": [
        "#Exercise 1-5\n",
        "strsec=input(\"Input a number:\")\n",
        "strsec=int(strsec)\n",
        "#below is to restrict the range of the number inserted\n",
        "#in order words, the maximum number of seconds that does not exceed days\n",
        "if (strsec>86399):\n",
        "  print(\"error\")\n",
        "else:\n",
        "#hours can be divided by 3600 without the remains\n",
        "  hours=strsec//3600\n",
        "#mintues are further divided by 60 with the remains\n",
        "  mins=(strsec%3600)//60\n",
        "#seconds are the remains of the minutes and hours\n",
        "  sec=(strsec%3600)%60\n",
        "  print(strsec, \"is:\", hours, \"hours\", mins, \"minutes\", sec, \"seconds\")"
      ]
    },
    {
      "cell_type": "markdown",
      "metadata": {},
      "source": [
        "EX1-6: Assign the password to the variable password in the program (e.g. password = \"abcd\"), then read the string from the keyboard input and print \"pass\" if the string read matches the value of the variable password, \"fail If it doesn't match, create a program that prints \"pass\", if it matches the value of the variable password, \"fail\".\n",
        "• Input the value assigned to password and other strings, respectively, and check the operation.\n",
        "• The report should report the results of either operation"
      ]
    },
    {
      "cell_type": "code",
      "execution_count": 23,
      "metadata": {
        "colab": {
          "base_uri": "https://localhost:8080/",
          "height": 0
        },
        "id": "hAtKicXaKqxJ",
        "outputId": "74321b39-2888-4bb7-9d0d-3327b6d8f002"
      },
      "outputs": [
        {
          "name": "stdout",
          "output_type": "stream",
          "text": [
            "insert password:aldf\n",
            "fail\n"
          ]
        }
      ],
      "source": [
        "#Exercise 1-6\n",
        "password=\"akds\"\n",
        "string=input(\"insert password:\")\n",
        "#here lignes the divergence of whether the valuable match each other or not\n",
        "if(string==password):\n",
        "  print(\"pass\")\n",
        "else:\n",
        "  print(\"fail\")"
      ]
    },
    {
      "cell_type": "code",
      "execution_count": 24,
      "metadata": {
        "colab": {
          "base_uri": "https://localhost:8080/",
          "height": 0
        },
        "id": "iSY9Qh8PNVum",
        "outputId": "f2c38eb7-729e-474d-87d0-8f09f46ee312"
      },
      "outputs": [
        {
          "name": "stdout",
          "output_type": "stream",
          "text": [
            "insert password:fail\n",
            "pass\n"
          ]
        }
      ],
      "source": [
        "#Exercise 1-6 b\n",
        "#the password is \"fail\"\n",
        "password=\"fail\"\n",
        "string=input(\"insert password:\")\n",
        "if(string==password):\n",
        "  print(\"pass\")\n",
        "else:\n",
        "  print(\"fail\")"
      ]
    },
    {
      "cell_type": "markdown",
      "metadata": {},
      "source": [
        "EX1-7: Assign the string read from the keyboard input to the variable password, print \"enter longer password\" if the password length is less than 4 characters, otherwise print \"password set\".\n",
        "• In the latter case, again assign the string read from the keyboard input to another variable, and create a program that prints \"pass\" if the second password and the first password match, and \"fail\" if they do not match.\n",
        "• A program that sets a new password on the first keyboard entry and checks if the second keyboard entry matches the set password.\n",
        "• len(string) returns string length\n",
        "• To test the following three patterns to see if the program is working correctly\n",
        "• 1) Enter a string of less than 4 characters on the first keyboard input\n",
        "• 2) Enter a string of 4 or more characters on the first keyboard entry and a different string\n",
        "• 3) Enter a string of 4 or more characters on the first keyboard entry, then enter the same string on the second entry."
      ]
    },
    {
      "cell_type": "code",
      "execution_count": 26,
      "metadata": {
        "colab": {
          "base_uri": "https://localhost:8080/",
          "height": 0
        },
        "id": "Jqv6ioTMNoRI",
        "outputId": "deddf01d-382c-4354-b662-e16778e790d8"
      },
      "outputs": [
        {
          "name": "stdout",
          "output_type": "stream",
          "text": [
            "Insert a password: kdl\n",
            "enter longer password\n"
          ]
        }
      ],
      "source": [
        "#Exercise 1-7\n",
        "password=input(\"Set a password: \")\n",
        "#below determines that the password is composed of 4 or longer letters\n",
        "if (len(password)<4):\n",
        "  print(\"enter longer password\")\n",
        "else:\n",
        "  print(\"password set\")"
      ]
    },
    {
      "cell_type": "code",
      "execution_count": 38,
      "metadata": {
        "colab": {
          "base_uri": "https://localhost:8080/",
          "height": 0
        },
        "id": "RYfLMJmhOKOt",
        "outputId": "c34a5df1-6593-4a37-f7dd-275e462611ff"
      },
      "outputs": [
        {
          "name": "stdout",
          "output_type": "stream",
          "text": [
            "set a password: asdf\n",
            "password set\n",
            "Enter password: awer\n",
            "fail\n"
          ]
        }
      ],
      "source": [
        "#Exercise 1-7 latter case\n",
        "password=input(\"set a password: \")\n",
        "if (len(password)<4):\n",
        "  print(\"enter longer password\")\n",
        "else:\n",
        "  print(\"password set\")\n",
        "#below makes it clear that the latter instruction can only be run if the\n",
        "#password is eligible\n",
        "if len(password)>=4:\n",
        "  x = input(\"Enter password: \")\n",
        "  if (password==x):\n",
        "    print(\"pass\")\n",
        "  else:\n",
        "    print(\"fail\")"
      ]
    },
    {
      "cell_type": "markdown",
      "metadata": {},
      "source": [
        "EX1-8: Create a program to calculate how many numbers from 1 to 10 are divisible by 3 using the following steps.\n",
        "• Let counter be the variable that calculates the number of numbers divisible by 3, and first set counter=0.\n",
        "• Let x be a number divisible by 3 and first assign x=1.\n",
        "• If x is divisible by 3, then counter = counter +1 or counter += 1\n",
        "• Repeat until x=2, x=3 and x=10"
      ]
    },
    {
      "cell_type": "code",
      "execution_count": 57,
      "metadata": {
        "colab": {
          "base_uri": "https://localhost:8080/",
          "height": 0
        },
        "id": "s14qj8ojOquk",
        "outputId": "7cd041e6-340d-427a-a872-63285b92bb00"
      },
      "outputs": [
        {
          "name": "stdout",
          "output_type": "stream",
          "text": [
            "3\n"
          ]
        }
      ],
      "source": [
        "#Exercise 1-8\n",
        "counter=0\n",
        "x=1\n",
        "if x%3==0:\n",
        "  counter=counter+1\n",
        "\n",
        "#below is the repetition of the above\n",
        "x=2\n",
        "if x%3==0:\n",
        "  counter=counter+1\n",
        "x=3\n",
        "if x%3==0:\n",
        "  counter=counter+1\n",
        "\n",
        "x=4\n",
        "if x%3==0:\n",
        "  counter=counter+1\n",
        "\n",
        "x=5\n",
        "if x%3==0:\n",
        "  counter=counter+1\n",
        "\n",
        "x=6\n",
        "if x%3==0:\n",
        "  counter=counter+1\n",
        "\n",
        "x=7\n",
        "if x%3==0:\n",
        "  counter=counter+1\n",
        "\n",
        "x=8\n",
        "if x%3==0:\n",
        "  counter=counter+1\n",
        "\n",
        "x=9\n",
        "if x%3==0:\n",
        "  counter=counter+1\n",
        "\n",
        "x=10\n",
        "if x%3==0:\n",
        "  counter=counter+1\n",
        "print(counter)\n",
        "\n"
      ]
    },
    {
      "cell_type": "markdown",
      "metadata": {},
      "source": [
        "EX1-9 (2 points): Create a program to display \"leap\" if the year is a leap year and \"not leap\" otherwise.\n",
        "• The definition of a leap year in the Gregorian calendar is as follows:\n",
        " (1) In principle, the year when the year number is divisible by 4 is a leap year.\n",
        " (2) As an exception to condition: the year is divisible by 100 is a normal year.\n",
        " (3) As an exception to condition: the year is divisible by 400 is a leap year.\n",
        " e.g., 2019: normal year, 2020: leap year, 2100: normal year, 2000: leap year"
      ]
    },
    {
      "cell_type": "code",
      "execution_count": 112,
      "metadata": {
        "colab": {
          "base_uri": "https://localhost:8080/",
          "height": 0
        },
        "id": "q3guGzt9QygN",
        "outputId": "59f7d6bb-203c-45a2-f578-257917319ac1"
      },
      "outputs": [
        {
          "name": "stdout",
          "output_type": "stream",
          "text": [
            "What year?2019\n",
            "not leap\n"
          ]
        }
      ],
      "source": [
        "#Exercise 1-9\n",
        "year=input(\"What year?\")\n",
        "year=int(year)\n",
        "if year%3!=0:\n",
        "#to eliminate the possibility of 2100 becoming 'leap year'\n",
        "  if year%4==0 or year%400==0:\n",
        "    print('leap')\n",
        "  elif year%100!=0 and year%4!=0:\n",
        "    print('not leap')\n",
        "else:\n",
        "  print('not leap')"
      ]
    }
  ],
  "metadata": {
    "colab": {
      "provenance": []
    },
    "kernelspec": {
      "display_name": "Python 3",
      "name": "python3"
    },
    "language_info": {
      "name": "python"
    }
  },
  "nbformat": 4,
  "nbformat_minor": 0
}
