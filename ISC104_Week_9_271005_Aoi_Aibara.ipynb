{
  "nbformat": 4,
  "nbformat_minor": 0,
  "metadata": {
    "colab": {
      "provenance": []
    },
    "kernelspec": {
      "name": "python3",
      "display_name": "Python 3"
    },
    "language_info": {
      "name": "python"
    }
  },
  "cells": [
    {
      "cell_type": "markdown",
      "source": [
        "EX9-1: Create an object (name it myrw) of the Randomwalk on page 15 and\n",
        "execute the following:\n",
        "\n",
        "• Print myrw attribute path\n",
        "\n",
        "• Execute myrw's method addwalk with argument 10\n",
        "\n",
        "• Print myrw attribute path again"
      ],
      "metadata": {
        "id": "Uh1y8iFbXyvF"
      }
    },
    {
      "cell_type": "code",
      "source": [
        "#Exercise 9-1\n",
        "\n",
        "import random\n",
        "class RandomWalk():\n",
        "  def __init__(self):\n",
        "    self.path = [0]\n",
        "  def addwalk(self,len):\n",
        "    for i in range(len):\n",
        "      rn = random.choice([-1,1]) +self.path[-1]\n",
        "      self.path.append(rn)\n",
        "\n",
        "myrw=RandomWalk() #defining my own rw\n",
        "print(myrw.path) #printing the path that I have attributed\n",
        "myrw.addwalk(10) #executing myrw's method addwalk with argument 10\n",
        "print(myrw.path) #printing myrw.path again"
      ],
      "metadata": {
        "colab": {
          "base_uri": "https://localhost:8080/"
        },
        "id": "xxo8r4Robx3U",
        "outputId": "01d4fdf5-3913-4b9e-ff79-e8fb67fd7562"
      },
      "execution_count": null,
      "outputs": [
        {
          "output_type": "stream",
          "name": "stdout",
          "text": [
            "[0]\n",
            "[0, -1, -2, -1, -2, -3, -4, -3, -2, -1, 0]\n"
          ]
        }
      ]
    },
    {
      "cell_type": "markdown",
      "source": [
        "EX9-2: Add a new method lastpos() to the Randomwalk class with the following\n",
        "specifications:\n",
        "\n",
        "• Argument: self\n",
        "\n",
        "• Return value: The last value in the path attribute (attribute path can be\n",
        "referenced by self.path in the method definition)\n",
        "\n",
        "After adding the lastpos() method\n",
        "\n",
        "1) Create an object again\n",
        "\n",
        "2) Execute the addwalk() method with argument 10\n",
        "\n",
        "3) Execute lastpos() and print the result."
      ],
      "metadata": {
        "id": "zAb2jvWGfyJx"
      }
    },
    {
      "cell_type": "code",
      "source": [
        "#Exercise 9-2\n",
        "import random\n",
        "class RandomWalk():\n",
        "  def __init__(self):\n",
        "    self.path = [0]\n",
        "  def addwalk(self,len):\n",
        "    for i in range(len):\n",
        "      rn = random.choice([-1,1]) +self.path[-1]\n",
        "      self.path.append(rn)\n",
        "  def lastpos(self):\n",
        "    return self.path[-1]\n",
        "\n",
        "myobj=RandomWalk()\n",
        "myobj.addwalk(10)\n",
        "print(myobj.lastpos())"
      ],
      "metadata": {
        "colab": {
          "base_uri": "https://localhost:8080/"
        },
        "id": "jrZoMwCjcLGx",
        "outputId": "f33fd52b-195e-4423-9576-0f06935d8a48"
      },
      "execution_count": null,
      "outputs": [
        {
          "output_type": "stream",
          "name": "stdout",
          "text": [
            "-2\n"
          ]
        }
      ]
    },
    {
      "cell_type": "markdown",
      "source": [
        "EX9-3: Add the following methods to the RandomWalk class and execute each of them.\n",
        "\n",
        "a) Add reversed() method that does not change the attribute path itself but returns a list of reversed attribute\n",
        "paths"
      ],
      "metadata": {
        "id": "sgKy3pQe2jrR"
      }
    },
    {
      "cell_type": "code",
      "source": [
        "#Exercise 9-3 (a)\n",
        "import random\n",
        "class RandomWalk():\n",
        "  def __init__(self):\n",
        "    self.path = [0]\n",
        "  def addwalk(self,len):\n",
        "    for i in range(len):\n",
        "      rn = random.choice([-1,1]) +self.path[-1]\n",
        "      self.path.append(rn)\n",
        "  def lastpos(self):\n",
        "    return self.path[-1]\n",
        "\n",
        "  def reversed(self):\n",
        "    return self.path[::-1] #this slicing operation reverses the elements without modifying the original\n",
        "\n",
        "rw = RandomWalk()\n",
        "rw.addwalk(10)\n",
        "print(rw.path)\n",
        "print(rw.reversed()) #recalling the reversed() method from the class\n",
        "print(rw.path)"
      ],
      "metadata": {
        "colab": {
          "base_uri": "https://localhost:8080/"
        },
        "id": "8qT8mpNhdudj",
        "outputId": "95d3aa62-5fb6-4fe7-8fac-700f431b3b3c"
      },
      "execution_count": null,
      "outputs": [
        {
          "output_type": "stream",
          "name": "stdout",
          "text": [
            "[0, 1, 0, -1, 0, -1, 0, 1, 0, 1, 2]\n",
            "[2, 1, 0, 1, 0, -1, 0, -1, 0, 1, 0]\n",
            "[0, 1, 0, -1, 0, -1, 0, 1, 0, 1, 2]\n"
          ]
        }
      ]
    },
    {
      "cell_type": "markdown",
      "source": [
        "b) Add reverse() method to reverse the attribute path itself"
      ],
      "metadata": {
        "id": "V21uaEF_2oXz"
      }
    },
    {
      "cell_type": "code",
      "source": [
        "#Exercise 9-3 (b)\n",
        "import random\n",
        "class RandomWalk():\n",
        "  def __init__(self):\n",
        "    self.path = [0]\n",
        "  def addwalk(self,len):\n",
        "    for i in range(len):\n",
        "      rn = random.choice([-1,1]) +self.path[-1]\n",
        "      self.path.append(rn)\n",
        "\n",
        "  def reverse(self):\n",
        "    return self.path.reverse() #reverse the whole added walk list\n",
        "\n",
        "rw=RandomWalk()\n",
        "rw.addwalk(10)\n",
        "print(rw.path)\n",
        "rw.reverse()\n",
        "print(rw.path)"
      ],
      "metadata": {
        "colab": {
          "base_uri": "https://localhost:8080/"
        },
        "id": "KQsKtpXGgPmm",
        "outputId": "20aba516-7bd9-4890-9ebb-b5167806cd35"
      },
      "execution_count": null,
      "outputs": [
        {
          "output_type": "stream",
          "name": "stdout",
          "text": [
            "[0, -1, -2, -1, 0, 1, 0, -1, -2, -3, -4]\n",
            "[-4, -3, -2, -1, 0, 1, 0, -1, -2, -1, 0]\n"
          ]
        }
      ]
    },
    {
      "cell_type": "markdown",
      "source": [
        " c) Add posratio() method to calculate and return the percentage of values in the path attribute that are greater\n",
        "than or equal to 0."
      ],
      "metadata": {
        "id": "oDDEUpwTl3Fb"
      }
    },
    {
      "cell_type": "code",
      "source": [
        "#Exercise 9-3 (c)\n",
        "import random\n",
        "class RandomWalk():\n",
        "  def __init__(self):\n",
        "    self.path = [0]\n",
        "  def addwalk(self,len):\n",
        "    for i in range(len):\n",
        "      rn = random.choice([-1,1]) +self.path[-1]\n",
        "      self.path.append(rn)\n",
        "\n",
        "  def posratio(self):\n",
        "    count=0\n",
        "    for i in self.path:\n",
        "      if i>=0:\n",
        "        count+=1\n",
        "    ratio=(count/len(self.path))*100\n",
        "    return ratio\n",
        "\n",
        "rw=RandomWalk()\n",
        "rw.addwalk(9)\n",
        "print(rw.path)\n",
        "print(rw.posratio())"
      ],
      "metadata": {
        "colab": {
          "base_uri": "https://localhost:8080/"
        },
        "id": "OGH___WpiktF",
        "outputId": "31a0d735-b57d-4707-8839-8136f9844661"
      },
      "execution_count": null,
      "outputs": [
        {
          "output_type": "stream",
          "name": "stdout",
          "text": [
            "[0, -1, 0, 1, 0, 1, 0, -1, 0, 1]\n",
            "80.0\n"
          ]
        }
      ]
    },
    {
      "cell_type": "markdown",
      "source": [
        "d) Create a Randomwalk object and execute addwalk(100). Repeat this 1000 times to find the percentage of values greater than or equal to 0 using the posratio() method, and display a histogram of the 1000\n",
        "percentages."
      ],
      "metadata": {
        "id": "z73HPiEu2scJ"
      }
    },
    {
      "cell_type": "code",
      "source": [
        "#Exercise 9-3 (d)\n",
        "import random\n",
        "import matplotlib.pyplot as plt\n",
        "class RandomWalk():\n",
        "  def __init__(self):\n",
        "    self.path = [0]\n",
        "  def addwalk(self,len):\n",
        "    for i in range(len):\n",
        "      rn = random.choice([-1,1]) +self.path[-1]\n",
        "      self.path.append(rn)\n",
        "\n",
        "  def posratio(self):\n",
        "    count=0\n",
        "    for i in self.path:\n",
        "      if i>=0:\n",
        "        count+=1\n",
        "    ratio=(count/len(self.path))*100\n",
        "    return ratio\n",
        "\n",
        "histogram=[]\n",
        "for _ in range(1000): #repeating 1000times\n",
        "  rw=RandomWalk()\n",
        "  rw.addwalk(100) #executing addwalk(100)\n",
        "  histogram.append(rw.posratio()) #calculating the ratio everyytime 1000times and adding it to the list\n",
        "\n",
        "plt.hist(histogram)\n",
        "plt.show()"
      ],
      "metadata": {
        "colab": {
          "base_uri": "https://localhost:8080/",
          "height": 430
        },
        "id": "FGY1Y_-DlcIO",
        "outputId": "085ef5f5-1198-4d90-92fa-87fd76cff5d3"
      },
      "execution_count": null,
      "outputs": [
        {
          "output_type": "display_data",
          "data": {
            "text/plain": [
              "<Figure size 640x480 with 1 Axes>"
            ],
            "image/png": "[encoded data removed]"
          },
          "metadata": {}
        }
      ]
    },
    {
      "cell_type": "markdown",
      "source": [
        "EX 9-4: Create the following CoinPurse class and report the results of execute as instructed on the next slide.\n",
        "\n",
        "• coindict: A dictionary whose keys are coin types (1 yen, 5 yen, 10 yen, 50 yen, 100 yen, and 500 yen) and\n",
        "whose values are the number of coins"
      ],
      "metadata": {
        "id": "wdoimDMA2VIA"
      }
    },
    {
      "cell_type": "code",
      "source": [
        "#Exercise 9-4 (a)\n",
        "class CoinPurse():\n",
        "  def __init__(self): #initiallizing the coindict that can be applied to all the methods\n",
        "    self.coindict={\n",
        "        1:0,\n",
        "        5:0,\n",
        "        10:0,\n",
        "        50:0,\n",
        "        100:0,\n",
        "        500:0\n",
        "    }\n",
        "\n",
        "  def add_coins(self, coin, num_coin): #adding coins to the dictionary\n",
        "    if coin in self.coindict:\n",
        "      self.coindict[coin]+=num_coin\n",
        "    else:\n",
        "      self.coindict[coin]=num_coin #setting the num_coin as the initial number when there is none already\n",
        "  def withdraw_coins(self, coin, num_coin):\n",
        "    if coin in self.coindict and self.coindict[coin]>0: #when there are more than 0 coins in the dictionary\n",
        "      self.coindict[coin]-=num_coin\n",
        "    elif coin in self.coindict:\n",
        "      self.coindict[coin] = 0\n",
        "    else:\n",
        "      self.coindict[coin]==0\n",
        "      print(\"cannot pay\")\n",
        "  def check(self):\n",
        "    total = sum(coin*count for coin, count in self.coindict.items()) #multiplying the key and the value to calculate the total amount of the coins\n",
        "    return total\n",
        "\n",
        "mypurse=CoinPurse()\n",
        "\n",
        "mypurse.add_coins(10,3)\n",
        "mypurse.add_coins(100,2)\n",
        "mypurse.add_coins(5,2)\n",
        "print(mypurse.check())\n",
        "mypurse.withdraw_coins(100,1)\n",
        "print(mypurse.check())\n",
        "mypurse.withdraw_coins(100,2)"
      ],
      "metadata": {
        "colab": {
          "base_uri": "https://localhost:8080/"
        },
        "id": "mSU6eipEm9PV",
        "outputId": "89d56728-d687-4984-f76d-df01c7f3ddb5"
      },
      "execution_count": null,
      "outputs": [
        {
          "output_type": "stream",
          "name": "stdout",
          "text": [
            "240\n",
            "140\n"
          ]
        }
      ]
    },
    {
      "cell_type": "markdown",
      "source": [
        "b) Add the following method to the CoinPurse class and try it with the appropriate amount.\n",
        "\n",
        "Return the amount of change. If the total amount of the coindict is less than the amount of the payment, -1 is returned."
      ],
      "metadata": {
        "id": "C5kCYz4oiEW4"
      }
    },
    {
      "cell_type": "code",
      "source": [
        "#Exercise 9-4 (b)\n",
        "class CoinPurse():\n",
        "  def __init__(self): #initiallizing the coindict that can be applied to all the methods\n",
        "    self.coindict={\n",
        "        1:0,\n",
        "        5:0,\n",
        "        10:0,\n",
        "        50:0,\n",
        "        100:0,\n",
        "        500:0\n",
        "    }\n",
        "\n",
        "  def add_coins(self, coin, num_coin): #adding coins to the dictionary\n",
        "    if coin in self.coindict:\n",
        "      self.coindict[coin]+=num_coin\n",
        "    else:\n",
        "      self.coindict[coin]=num_coin #setting the num_coin as the initial number when there is none already\n",
        "  def withdraw_coins(self, coin, num_coin):\n",
        "    if coin in self.coindict and self.coindict[coin]>0: #when there are more than 0 coins in the dictionary\n",
        "      self.coindict[coin]-=num_coin\n",
        "    elif coin in self.coindict:\n",
        "      self.coindict[coin] = 0\n",
        "    else:\n",
        "      self.coindict[coin]==0\n",
        "      print(\"cannot pay\")\n",
        "  def check(self):\n",
        "    total = sum(coin*count for coin, count in self.coindict.items()) #multiplying the key and the value to calculate the total amount of the coins\n",
        "    return total\n",
        "\n",
        "  def to_be_paid(self, pay):\n",
        "    total = self.check()\n",
        "    if total<pay:\n",
        "      return -1\n",
        "\n",
        "    self.change = {}\n",
        "    for coin in sorted(self.coindict.keys(), reverse=True):\n",
        "      #looking at each items in coindit\n",
        "      while pay>=coin and self.coindict[coin]>0:  #when the payment is larger than the specific coin\n",
        "        pay-=coin #regard it as being paying off\n",
        "        self.coindict[coin]-=1 #actually paying off\n",
        "\n",
        "        #adding the list of changes\n",
        "        if coin in self.change:\n",
        "          self.change[coin]+=1\n",
        "        else:\n",
        "          self.change[coin]=1\n",
        "    if pay == 0:\n",
        "      return self.change  # Return the change (the coins used to pay)\n",
        "    else:\n",
        "      return -1\n",
        "\n",
        "\n",
        "mypurse=CoinPurse()\n",
        "\n",
        "mypurse.add_coins(10,3)\n",
        "mypurse.add_coins(100,2)\n",
        "mypurse.add_coins(5,2)\n",
        "print(mypurse.check())\n",
        "mypurse.to_be_paid(20)\n",
        "print(mypurse.check())\n",
        "print(mypurse.change)"
      ],
      "metadata": {
        "colab": {
          "base_uri": "https://localhost:8080/"
        },
        "id": "DZXcl3vizo34",
        "outputId": "e2ab3af6-a745-49f8-e632-f377113ee8e1"
      },
      "execution_count": null,
      "outputs": [
        {
          "output_type": "stream",
          "name": "stdout",
          "text": [
            "240\n",
            "220\n",
            "{10: 2}\n"
          ]
        }
      ]
    },
    {
      "cell_type": "markdown",
      "source": [
        "EX 9-5:\n",
        "Return a character randomly selected from alplist."
      ],
      "metadata": {
        "id": "Ep--fiMSiQJm"
      }
    },
    {
      "cell_type": "code",
      "source": [
        "#Exercise 9-5\n",
        "import random\n",
        "alplist = list(map(chr,list(range(ord('a'),ord('z')+1))))\n",
        "\n",
        "def rndalp():\n",
        "  random_item= random.choice(alplist) #function to select an item from the list randomly\n",
        "  return random_item #outputting the randomly selected item\n",
        "print(rndalp())"
      ],
      "metadata": {
        "colab": {
          "base_uri": "https://localhost:8080/"
        },
        "id": "-784OrPM5nDR",
        "outputId": "a428c84a-2e77-48ae-b459-0afd8b2938d3"
      },
      "execution_count": null,
      "outputs": [
        {
          "output_type": "stream",
          "name": "stdout",
          "text": [
            "i\n"
          ]
        }
      ]
    },
    {
      "cell_type": "markdown",
      "source": [
        "EX 9-6:\n",
        "Return a concatenated (joined) string of a list of n randomly selected characters (with duplicates) from alplist."
      ],
      "metadata": {
        "id": "pkgH_8P3iZYq"
      }
    },
    {
      "cell_type": "code",
      "source": [
        "#Exercise 9-6\n",
        "\n",
        "alplist = list(map(chr,list(range(ord('a'),ord('z')+1))))\n",
        "\n",
        "def nrndalp(n):\n",
        "  rand_letters =[] #creating a list to add the randomly seleceted letters\n",
        "  for _ in range (n):\n",
        "    letters = random.choice(alplist) #randomly selecting the letters\n",
        "    rand_letters.append(letters) #adding the letters into the empty list\n",
        "  return ''.join(rand_letters) #joining the items in the list\n",
        "\n",
        "print(nrndalp(10))"
      ],
      "metadata": {
        "colab": {
          "base_uri": "https://localhost:8080/"
        },
        "id": "t8lsuZN9hh95",
        "outputId": "66e91760-fe71-4f7e-9cb3-6b6fc5dac399"
      },
      "execution_count": null,
      "outputs": [
        {
          "output_type": "stream",
          "name": "stdout",
          "text": [
            "nysvejacns\n"
          ]
        }
      ]
    },
    {
      "cell_type": "markdown",
      "source": [
        "EX 9-7: Generate all possible pairs of letters from alplist. Allow duplicate letters (like (‘a’, ‘a’)) and duplicate reordering (like (‘a’, ‘b’) and (‘b’, ‘a’))."
      ],
      "metadata": {
        "id": "KxhAai4Ej0T9"
      }
    },
    {
      "cell_type": "code",
      "source": [
        "#Exercise 9-7\n",
        "import itertools\n",
        "\n",
        "alplist = list(map(chr,list(range(ord('a'),ord('z')+1))))\n",
        "count=0\n",
        "\n",
        "combis = itertools.product(alplist, repeat =2) #using itertools.product() function; repeat=2 is specifying the length of the combination\n",
        "\n",
        "for i in combis: #for each combination\n",
        "  count+=1 #track the number of combination\n",
        "  if i == ('x', 'z'):\n",
        "    print(i)\n",
        "    break #break to output the tracked number of combination\n",
        "\n",
        "print(count)"
      ],
      "metadata": {
        "colab": {
          "base_uri": "https://localhost:8080/"
        },
        "id": "Uj0QgSEgjA7B",
        "outputId": "fd3506d4-07cb-4e80-f5f9-95f6f2443b03"
      },
      "execution_count": null,
      "outputs": [
        {
          "output_type": "stream",
          "name": "stdout",
          "text": [
            "('x', 'z')\n",
            "624\n"
          ]
        }
      ]
    },
    {
      "cell_type": "markdown",
      "source": [
        "EX9-8:\n",
        "a) Create the function crack_pass(). Generate a random string (password) of length 4 using nrndalp(4), and execute crack_pass() with the generated password as an argument."
      ],
      "metadata": {
        "id": "yYtoxOIQmr11"
      }
    },
    {
      "cell_type": "code",
      "source": [
        "#Exercise 9-8 (a)\n",
        "import itertools\n",
        "import random\n",
        "\n",
        "#generate a password by randomly selecting items (number given) from alplist\n",
        "def nrndalp(n):\n",
        "  alplist = list(map(chr,list(range(ord('a'),ord('z')+1))))\n",
        "  rand_letters =[] #creating a list to add the randomly seleceted letters\n",
        "  for _ in range (n):\n",
        "    letters = random.choice(alplist) #randomly selecting the letters\n",
        "    rand_letters.append(letters) #adding the letters into the empty list\n",
        "  return ''.join(rand_letters) #joining the items in the list\n",
        "\n",
        "\n",
        "def  crack_pass(password):\n",
        "  alplist = list(map(chr,list(range(ord('a'),ord('z')+1))))\n",
        "  lenpass = len(password)\n",
        "  combis = itertools.product(alplist, repeat =lenpass) #making combinations as long as the 'passkey'\n",
        "  for i in combis: #checking all the possible combinations\n",
        "    if ''.join(i) == password:\n",
        "      return ''.join(i) #output when the right combination is found\n",
        "  return -1\n",
        "\n",
        "passkey = nrndalp(4) #inserting nrdnalp(4) into a variable to make sure not to generate a new password\n",
        "print('generated password', passkey)\n",
        "print('cracked password', crack_pass(passkey))"
      ],
      "metadata": {
        "colab": {
          "base_uri": "https://localhost:8080/"
        },
        "id": "ygcIVdaXmGKb",
        "outputId": "b2843088-cd4f-4245-aea5-f15f9fe9648c"
      },
      "execution_count": null,
      "outputs": [
        {
          "output_type": "stream",
          "name": "stdout",
          "text": [
            "generated password czdy\n",
            "cracked password czdy\n"
          ]
        }
      ]
    },
    {
      "cell_type": "markdown",
      "source": [
        "b) Increase the password length to 1, 2, 3, 4, 5 and check the number of times the password is checked. You can also check the execution time by adding %%time to the beginning of the code cell to measure the execution time."
      ],
      "metadata": {
        "id": "9PRUsiPZsJTT"
      }
    },
    {
      "cell_type": "code",
      "source": [
        "#Exercise 9-8 (b)\n",
        "#outputting the execution time\n",
        "%%time\n",
        "import itertools\n",
        "import random\n",
        "\n",
        "#generate a password by randomly selecting items (number given) from alplist\n",
        "def nrndalp(n):\n",
        "  alplist = list(map(chr,list(range(ord('a'),ord('z')+1))))\n",
        "  rand_letters =[] #creating a list to add the randomly seleceted letters\n",
        "  for _ in range (n):\n",
        "    letters = random.choice(alplist) #randomly selecting the letters\n",
        "    rand_letters.append(letters) #adding the letters into the empty list\n",
        "  return ''.join(rand_letters) #joining the items in the list\n",
        "\n",
        "\n",
        "def  crack_pass(password):\n",
        "  alplist = list(map(chr,list(range(ord('a'),ord('z')+1))))\n",
        "  lenpass = len(password)\n",
        "  combis = itertools.product(alplist, repeat =lenpass) #making combinations as long as the 'passkey'\n",
        "  count=0\n",
        "  for i in combis: #checking all the possible combinations\n",
        "    count+=1\n",
        "    if ''.join(i) == password:\n",
        "      return ''.join(i), count #output when the right combination is found\n",
        "  return -1, count\n",
        "\n",
        "passkey = nrndalp(5)  # inserting nrndalp(4) into a variable to make sure not to generate a new password\n",
        "\n",
        "#unpacking and assigning the variables to each item returned from crack_pass(password)\n",
        "crack_passkey, counts = crack_pass(passkey)\n",
        "\n",
        "print('generated password:', passkey)\n",
        "print('cracked password:', crack_passkey)\n",
        "print('how many times:', counts)"
      ],
      "metadata": {
        "colab": {
          "base_uri": "https://localhost:8080/"
        },
        "id": "WEaJMVbBqJOi",
        "outputId": "4895a8b6-422c-4320-c6c2-1eab804e7fea"
      },
      "execution_count": null,
      "outputs": [
        {
          "output_type": "stream",
          "name": "stdout",
          "text": [
            "generated password: xiqtt\n",
            "cracked password: xiqtt\n",
            "how many times: 10662386\n",
            "CPU times: user 2.31 s, sys: 0 ns, total: 2.31 s\n",
            "Wall time: 2.31 s\n"
          ]
        }
      ]
    },
    {
      "cell_type": "markdown",
      "source": [
        "c) Create a function nrnnum() to generate n-digit numeric password (using digits 0~9) and modify function crack_pass() to handle numeric passwords. Compare the number of checks needed to crack numeric vs alphabetic passwords"
      ],
      "metadata": {
        "id": "ltasDxnJvFd3"
      }
    },
    {
      "cell_type": "code",
      "source": [
        "#Exercise 9-8 (c)\n",
        "%%time\n",
        "def nrndalp(n):\n",
        "  digitlist = list(range(0,10))\n",
        "  rand_numbers =[] #creating a list to add the randomly seleceted letters\n",
        "  for _ in range (n):\n",
        "    numbers = random.choice(digitlist) #randomly selecting the letters\n",
        "    rand_numbers.append(str(numbers)) #adding the letters into the empty list\n",
        "  return ''.join(rand_numbers)\n",
        "\n",
        "def nrnnum(password):\n",
        "  digitlist = list(range(0,10))\n",
        "  lenpass = len(password)\n",
        "  combis = itertools.product(digitlist, repeat =lenpass) #making combinations as long as the 'passkey'\n",
        "  count=0\n",
        "  for i in combis: #checking all the possible combinations\n",
        "    count+=1\n",
        "    if ''.join(map(str, i)) == password:\n",
        "      return ''.join(map(str,i)), count #applying converting all the i into strings\n",
        "  return -1, count\n",
        "\n",
        "passkey = nrndalp(5)  # inserting nrndalp(4) into a variable to make sure not to generate a new password\n",
        "\n",
        "#unpacking and assigning the variables to each item returned from nrnnum(password)\n",
        "nrnnum_key, counts = nrnnum(passkey)\n",
        "\n",
        "print('generated password:', passkey)\n",
        "print('cracked password:', nrnnum_key)\n",
        "print('how many times:', counts)\n",
        "\n",
        "#since the alphabet has 26 letters, it takes more time to match the generated password with the cracked password\n",
        "#on the other hand, since there are only 10 digits in the digitlist, it is fairly more time efficient"
      ],
      "metadata": {
        "colab": {
          "base_uri": "https://localhost:8080/"
        },
        "id": "3MdGjnv5sfHx",
        "outputId": "176593e1-fec8-4910-9460-38d73da76995"
      },
      "execution_count": null,
      "outputs": [
        {
          "output_type": "stream",
          "name": "stdout",
          "text": [
            "generated password: 89963\n",
            "cracked password: 89963\n",
            "how many times: 89964\n",
            "CPU times: user 92.5 ms, sys: 0 ns, total: 92.5 ms\n",
            "Wall time: 96.7 ms\n"
          ]
        }
      ]
    },
    {
      "cell_type": "markdown",
      "source": [
        "EX 9-9: Read \"courselist-short.csv\", create a dictionary (coursedict etc.) whose key is the class name and whose value is the list of class hours, and print the dictionary."
      ],
      "metadata": {
        "id": "WESy0slIyw4j"
      }
    },
    {
      "cell_type": "code",
      "source": [
        "#Exercise 9-9\n",
        "coursedict={}\n",
        "rf = open('courselist-short.csv', 'r')\n",
        "for line in rf:\n",
        "  splitted=line.strip().split(',')\n",
        "  time = [] #creating a list for the time schedule\n",
        "  for element in splitted[1:]: #inserting the elements from the second into the list which makes it from the information of the time scheudle\n",
        "    time.append(element)\n",
        "    class_name=splitted[0] #asigning the first element to be the key\n",
        "    coursedict[class_name]=time #matching the key and the value\n",
        "print(coursedict)"
      ],
      "metadata": {
        "id": "UyrWVo5avn6l",
        "colab": {
          "base_uri": "https://localhost:8080/"
        },
        "outputId": "5b851fcd-3f56-499d-c0ff-edf8ec1aa324"
      },
      "execution_count": 53,
      "outputs": [
        {
          "output_type": "stream",
          "name": "stdout",
          "text": [
            "{'ISC022': ['5F', '6F', '7F'], 'ECO216': ['4M', '4W', '4F'], 'CHM321': ['5M', '6M', '7M'], 'DUM000': ['5M', '5W', '5F']}\n"
          ]
        }
      ]
    },
    {
      "cell_type": "markdown",
      "source": [
        "EX9-10: From the dictionary key (course nname) created in EX9-9, generate a combination of two course names (no duplicates, no duplicate sorting) and print only if the two classes have overlapping course times."
      ],
      "metadata": {
        "id": "RKn7x39H51zx"
      }
    },
    {
      "cell_type": "code",
      "source": [
        " #Exercise 9-10\n",
        "import itertools\n",
        "\n",
        "coursedict={}\n",
        "rf = open('courselist-short.csv', 'r')\n",
        "for line in rf:\n",
        "  splitted=line.strip().split(',')\n",
        "  time = [] #creating a list for the time schedule\n",
        "  for element in splitted[1:]: #inserting the elements from the second into the list which makes it from the information of the time scheudle\n",
        "    time.append(element)\n",
        "  class_name=splitted[0] #asigning the first element to be the key\n",
        "  coursedict[class_name]=time #matching the key and the value\n",
        "\n",
        "for course1, course2 in itertools.combinations(coursedict.keys(), 2): #asigning variables to the ones in the selected combination\n",
        "  if len(coursedict[course1]+coursedict[course2])!=len(set(coursedict[course1]+coursedict[course2])): #if the length of the list (without consideration of duplicates) and list(without duplicates) doesn't match\n",
        "  #that means that means that there is a duplicate in the list, thus overlapping\n",
        "    print('overlapping courses:', course1, 'and', course2)\n",
        "    print('overlapping time schedule',set(coursedict[course1]) & set(coursedict[course2]))\n"
      ],
      "metadata": {
        "colab": {
          "base_uri": "https://localhost:8080/"
        },
        "id": "tRYowU1s3jH1",
        "outputId": "5910f499-8643-41f8-ff6d-cc2731bb361c"
      },
      "execution_count": 60,
      "outputs": [
        {
          "output_type": "stream",
          "name": "stdout",
          "text": [
            "overlapping courses: ISC022 and DUM000\n",
            "overlapping time schedule {'5F'}\n",
            "overlapping courses: CHM321 and DUM000\n",
            "overlapping time schedule {'5M'}\n"
          ]
        }
      ]
    }
  ]
}